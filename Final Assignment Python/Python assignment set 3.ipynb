{
 "cells": [
  {
   "cell_type": "markdown",
   "metadata": {},
   "source": [
    "41) Using calendar module perform following operations.\n",
    "a) Print the 2016 calendar with space between months as 10 characters.\n",
    "b) How many leap days between the years 1980 to 2025.\n",
    "c) Check given year is leap year or not. \n",
    "d) print calendar of any specified month of the year 2016.\n"
   ]
  },
  {
   "cell_type": "code",
   "execution_count": 101,
   "metadata": {},
   "outputs": [
    {
     "name": "stdout",
     "output_type": "stream",
     "text": [
      "calendar for year 2016 with space between months as 10 character is                                       2016\n",
      "\n",
      "      January                       February                       March\n",
      "Mo Tu We Th Fr Sa Su          Mo Tu We Th Fr Sa Su          Mo Tu We Th Fr Sa Su\n",
      "             1  2  3           1  2  3  4  5  6  7              1  2  3  4  5  6\n",
      " 4  5  6  7  8  9 10           8  9 10 11 12 13 14           7  8  9 10 11 12 13\n",
      "11 12 13 14 15 16 17          15 16 17 18 19 20 21          14 15 16 17 18 19 20\n",
      "18 19 20 21 22 23 24          22 23 24 25 26 27 28          21 22 23 24 25 26 27\n",
      "25 26 27 28 29 30 31          29                            28 29 30 31\n",
      "\n",
      "       April                          May                           June\n",
      "Mo Tu We Th Fr Sa Su          Mo Tu We Th Fr Sa Su          Mo Tu We Th Fr Sa Su\n",
      "             1  2  3                             1                 1  2  3  4  5\n",
      " 4  5  6  7  8  9 10           2  3  4  5  6  7  8           6  7  8  9 10 11 12\n",
      "11 12 13 14 15 16 17           9 10 11 12 13 14 15          13 14 15 16 17 18 19\n",
      "18 19 20 21 22 23 24          16 17 18 19 20 21 22          20 21 22 23 24 25 26\n",
      "25 26 27 28 29 30             23 24 25 26 27 28 29          27 28 29 30\n",
      "                              30 31\n",
      "\n",
      "        July                         August                      September\n",
      "Mo Tu We Th Fr Sa Su          Mo Tu We Th Fr Sa Su          Mo Tu We Th Fr Sa Su\n",
      "             1  2  3           1  2  3  4  5  6  7                    1  2  3  4\n",
      " 4  5  6  7  8  9 10           8  9 10 11 12 13 14           5  6  7  8  9 10 11\n",
      "11 12 13 14 15 16 17          15 16 17 18 19 20 21          12 13 14 15 16 17 18\n",
      "18 19 20 21 22 23 24          22 23 24 25 26 27 28          19 20 21 22 23 24 25\n",
      "25 26 27 28 29 30 31          29 30 31                      26 27 28 29 30\n",
      "\n",
      "      October                       November                      December\n",
      "Mo Tu We Th Fr Sa Su          Mo Tu We Th Fr Sa Su          Mo Tu We Th Fr Sa Su\n",
      "                1  2              1  2  3  4  5  6                    1  2  3  4\n",
      " 3  4  5  6  7  8  9           7  8  9 10 11 12 13           5  6  7  8  9 10 11\n",
      "10 11 12 13 14 15 16          14 15 16 17 18 19 20          12 13 14 15 16 17 18\n",
      "17 18 19 20 21 22 23          21 22 23 24 25 26 27          19 20 21 22 23 24 25\n",
      "24 25 26 27 28 29 30          28 29 30                      26 27 28 29 30 31\n",
      "31\n",
      "\n",
      "Leap days between the years 1980 to 2025 are 12 days\n",
      "enter the year to see if leap or not8989\n",
      "year 8989 is not a leap year\n",
      "Enter the month no of 2016 year to print it8\n",
      "    August 2016\n",
      "Mo Tu We Th Fr Sa Su\n",
      " 1  2  3  4  5  6  7\n",
      " 8  9 10 11 12 13 14\n",
      "15 16 17 18 19 20 21\n",
      "22 23 24 25 26 27 28\n",
      "29 30 31\n",
      "\n"
     ]
    }
   ],
   "source": [
    "import calendar\n",
    "\n",
    "#a) Print the 2016 calendar with space between months as 10 characters.\n",
    "print (\"calendar for year 2016 with space between months as 10 character is\", calendar.calendar(2016,c=10))\n",
    "\n",
    "#b) How many leap days between the years 1980 to 2025.\n",
    "print (\"Leap days between the years 1980 to 2025 are\",calendar.leapdays(1980,2025),\"days\")\n",
    "\n",
    "#c) Check given year is leap year or not. \n",
    "enterYear=int(input(\"enter the year to see if leap or not\"))\n",
    "\n",
    "if calendar.isleap(enterYear)==True:\n",
    "  print (\"year\",enterYear,\"is a leap year\")\n",
    "else:\n",
    "  print (\"year\",enterYear,\"is not a leap year\")\n",
    "\n",
    "#d) print calendar of any specified month of the year 2016.\n",
    "enterMonth2016=int(input(\"Enter the month no of 2016 year to print it\"))\n",
    "print (calendar.month(2016,enterMonth2016,w=2,l=1))"
   ]
  },
  {
   "cell_type": "markdown",
   "metadata": {},
   "source": [
    "42) Write a program to generate a Fibonacci series using a function called fib(n), \n",
    "a) Where ‘n’ is user specified argument specifies number of elements in the series."
   ]
  },
  {
   "cell_type": "code",
   "execution_count": 9,
   "metadata": {},
   "outputs": [
    {
     "name": "stdout",
     "output_type": "stream",
     "text": [
      "enter number of terms required in fibonacci series:4\n",
      "0\n",
      "1\n",
      "1\n",
      "2\n"
     ]
    }
   ],
   "source": [
    "def fibo(n=0):\n",
    "    a=0\n",
    "    b=1\n",
    "    if n<=0:\n",
    "        print(\"Enter a valid number\")\n",
    "    elif n==1:\n",
    "        print(\"Fibonacci series:\",a)\n",
    "    elif n ==2:\n",
    "        print (a)\n",
    "        print (b)\n",
    "    else:\n",
    "        print (a)\n",
    "        print (b)\n",
    "        while(n>2):\n",
    "            numnext=a+b\n",
    "            print (numnext)\n",
    "            a=b\n",
    "            b=numnext\n",
    "            n=n-1\n",
    "num=eval(input(\"enter number of terms required in fibonacci series:\"))\n",
    "n=int(num)\n",
    "fibo(n)"
   ]
  },
  {
   "cell_type": "markdown",
   "metadata": {},
   "source": [
    "43) Write a program to search given element from the list. Use your own function to search an element from list. Note: Function should receive variable length arguments and search each of these arguments present in the list."
   ]
  },
  {
   "cell_type": "code",
   "execution_count": 12,
   "metadata": {},
   "outputs": [
    {
     "name": "stdout",
     "output_type": "stream",
     "text": [
      "enter element to check in the list4\n",
      "Enter list elements3\n",
      "element 4 is not presnt in the list\n"
     ]
    }
   ],
   "source": [
    "def find(n):\n",
    "    list1=input(\"Enter list elements\")\n",
    "    list1=list(list1)\n",
    "    list1.sort()\n",
    "    found=0\n",
    "    for each in list1:\n",
    "        if n==each:\n",
    "            print (\"element\",n,\"is present in the list\")\n",
    "            found=1\n",
    "            break\n",
    "    if found==0:\n",
    "        print (\"element\",n,\"is not presnt in the list\")\n",
    "number=input(\"enter element to check in the list\")\n",
    "find(number)"
   ]
  },
  {
   "cell_type": "markdown",
   "metadata": {},
   "source": [
    "44) Write a program with lambda function to perform following.\n",
    "a) Perform all the operations of basic calculator (Add, Sub, Multiply, Divide, Modulus, Floor division)"
   ]
  },
  {
   "cell_type": "code",
   "execution_count": 13,
   "metadata": {},
   "outputs": [
    {
     "name": "stdout",
     "output_type": "stream",
     "text": [
      "Value as Sum: 50\n",
      "Value as Sub: 10\n",
      "Value as Mul: 200\n",
      "Value as Div: 1.6666666666666667\n",
      "Value as Mod: 0\n",
      "Value as Fdiv: 6\n"
     ]
    }
   ],
   "source": [
    "#a) Perform all the operations of basic calculator ( add, sub, multiply, divide, modulus, floor division ).'''\n",
    "\n",
    "add=lambda arg1,arg2:arg1+arg2\n",
    "sub=lambda arg1,arg2:arg1-arg2\n",
    "mul=lambda arg1,arg2:arg1*arg2\n",
    "div=lambda arg1,arg2:arg1/arg2\n",
    "mod=lambda arg1,arg2:arg1%arg2\n",
    "fdiv=lambda arg1,arg2:arg1//arg2\n",
    "\n",
    "\n",
    "# Now call all the functions\n",
    "print (\"Value as Sum:\",add(30,20))\n",
    "print (\"Value as Sub:\",sub(20,10))\n",
    "print (\"Value as Mul:\",mul(20,10))\n",
    "print (\"Value as Div:\",div(20.0,12.0))\n",
    "print (\"Value as Mod:\",mod(20,10))\n",
    "print (\"Value as Fdiv:\",fdiv(20,3))"
   ]
  },
  {
   "cell_type": "markdown",
   "metadata": {},
   "source": [
    "45) Write a program to check given string is Palindrome or not. (Use function Concepts and Required keyword, Default parameter concepts) i.e Reverse the given string and check whether it is same as original string, if so then it is palindrome. Example: String \"malayalam\" when reversed will be \"malayalam\" hence palindrome."
   ]
  },
  {
   "cell_type": "code",
   "execution_count": 14,
   "metadata": {},
   "outputs": [
    {
     "name": "stdout",
     "output_type": "stream",
     "text": [
      "Enter a string to verify if it is palindrometttt\n",
      "The given string tttt is palindrome\n"
     ]
    }
   ],
   "source": [
    "def palindrome(str=''):\n",
    "    mystr =str.lower()\n",
    "    newstr = str[::-1]\n",
    "    if mystr == newstr:\n",
    "        print (\"The given string\",str,\"is palindrome\")\n",
    "    else:\n",
    "        print (\"The given string\",str,\"is not palindrome\")\n",
    "    \n",
    "str = input(\"Enter a string to verify if it is palindrome\")\n",
    "palindrome(str)"
   ]
  },
  {
   "cell_type": "markdown",
   "metadata": {},
   "source": [
    "46) Write a function to find the biggest of 4 numbers.\n",
    "a) All numbers are passed as arguments separately (Required argument)\n",
    "b) use default values for arguments (Default arguments)"
   ]
  },
  {
   "cell_type": "code",
   "execution_count": 17,
   "metadata": {},
   "outputs": [
    {
     "name": "stdout",
     "output_type": "stream",
     "text": [
      "4 is the biggest\n"
     ]
    }
   ],
   "source": [
    "#a) All numbers are passed as arguments separately (Required argument)\n",
    "def biggest(a,b,c,d):\n",
    "    if a>b and a>c and a>d:\n",
    "        print (a,\"is the biggest\")\n",
    "    elif b>a and b>c and b>d:\n",
    "        print (b,\"is the biggest\")\n",
    "    elif c>a and c>b and c>d:\n",
    "        print (c,\"is the biggest\")\n",
    "    else:\n",
    "        print (d,\"is the biggest\")\n",
    "        \n",
    "biggest(2,3,4,1)\n"
   ]
  },
  {
   "cell_type": "code",
   "execution_count": 19,
   "metadata": {},
   "outputs": [
    {
     "name": "stdout",
     "output_type": "stream",
     "text": [
      "0 is the biggest\n"
     ]
    }
   ],
   "source": [
    "#b) use default values for arguments (Default arguments)\n",
    "def biggestdef(a=0,b=0,c=0,d=0):\n",
    "    if a>b and a>c and a>d:\n",
    "        print (a,\"is the biggest\")\n",
    "    elif b>a and b>c and b>d:\n",
    "        print (b,\"is the biggest\")\n",
    "    elif c>a and c>b and c>d:\n",
    "        print (c,\"is the biggest\")\n",
    "    else:\n",
    "        print (d,\"is the biggest\")\n",
    "\n",
    "biggestdef()"
   ]
  },
  {
   "cell_type": "markdown",
   "metadata": {},
   "source": [
    "47) Write function to extend the tuple with elements of list. Pass list and Tuple as parameter to the function."
   ]
  },
  {
   "cell_type": "code",
   "execution_count": 105,
   "metadata": {},
   "outputs": [
    {
     "name": "stdout",
     "output_type": "stream",
     "text": [
      "[11, 22, 33, 44, 1, 2, 3, 4]\n"
     ]
    }
   ],
   "source": [
    "def Extnd(tup1,list1):\n",
    "    list1.extend(tup1)\n",
    "    print (list1)\n",
    "\n",
    "tup=(1,2,3,4)\n",
    "list=[11,22,33,44]\n",
    "Extnd(tup,list)\n"
   ]
  },
  {
   "cell_type": "markdown",
   "metadata": {},
   "source": [
    "48) Create a Calculator with the following functions.\n",
    "a) Addition/subtraction/multiplication and division of two numbers (Note: Create separate function for each operation)\n",
    "b) Find square root of a given number. (Use keyword arguments in your function)\n",
    "c) Create a list of sub strings from a given string, such that sub strings are created with given character. i.e. String = \"Pack: My: Box: With: Good: Food\"\n",
    "Create sub strings with the delimiter character \":\" such that the following sub strings are created. substrlist=[Pack, My, Box, With, Good, Food] Note : Function should take at least 2 parameters ( Main string and delimiter character) return value from function will be list of substring.\n"
   ]
  },
  {
   "cell_type": "code",
   "execution_count": 112,
   "metadata": {},
   "outputs": [
    {
     "name": "stdout",
     "output_type": "stream",
     "text": [
      "Addition is 8\n",
      "Subtraction is 6\n",
      "Multiplication is 15\n",
      "Division is 2.0\n",
      "Square root is: 3.0\n",
      "Square root is: 9.0\n",
      "Original String is Pack:My:Box:With:Good:Food\n",
      "Substring from string is ['Pack', 'My', 'Box', 'With', 'Good', 'Food']\n"
     ]
    }
   ],
   "source": [
    "#a) Addition/subtraction/multiplication and division of two numbers (Note: Create separate function for each operation)\n",
    "#b) Find square root of a given number. (Use keyword arguments in your function)\n",
    "import math\n",
    "def add(a,b):\n",
    "    print (\"Addition is\",a+b)\n",
    "def sub(a,b):\n",
    "    print (\"Subtraction is\",a-b)\n",
    "def mul(a,b):\n",
    "    print (\"Multiplication is\",a*b)\n",
    "def div(a,b):\n",
    "    print (\"Division is\",a/b)\n",
    "def sqrt(num):\n",
    "    print (\"Square root is:\",math.sqrt(num))\n",
    "\n",
    "add(3,5)\n",
    "sub(9,3)\n",
    "mul(3,5)\n",
    "div(4,2)\n",
    "sqrt(9)\n",
    "sqrt(num=81)\n",
    "\n",
    "#c) Create a list of sub strings from a given string, such that sub strings are created with given character. \n",
    "#i.e. String = \"Pack: My: Box: With: Good: Food\" Create sub strings with the delimiter character \":\" \n",
    "#such that the following sub strings are created. substrlist=[Pack, My, Box, With, Good, Food] \n",
    "#Note : Function should take at least 2 parameters ( Main string and delimiter character) \n",
    "#return value from function will be list of substring.\n",
    "\n",
    "def subStr(str,char):\n",
    "    subStr= str.split(char,6)\n",
    "    print (\"Original String is\",str)\n",
    "    return subStr\n",
    "str=\"Pack:My:Box:With:Good:Food\"\n",
    "char=':'\n",
    "subStr= subStr(str,char)\n",
    "print (\"Substring from string is\",subStr)\n"
   ]
  },
  {
   "cell_type": "markdown",
   "metadata": {},
   "source": [
    "49) Write a program to perform following file operations\n",
    "a) Open the file in read mode and read all its contents on to STDOUT.\n",
    "b) Open the file in write mode and enter 5 new lines of strings in to the new file.\n",
    "c) Open file in Append mode and add 5 lines of text into it.\n"
   ]
  },
  {
   "cell_type": "code",
   "execution_count": 111,
   "metadata": {},
   "outputs": [
    {
     "name": "stdout",
     "output_type": "stream",
     "text": [
      "Read String is :  This is new file\n",
      "This is second line\n",
      "this is third line\n",
      "thats allfinally\n",
      "last line!!finally\n",
      "last line!!finally\n",
      "last line!!\n",
      "finally\n",
      "last line!!\n"
     ]
    }
   ],
   "source": [
    "#a) Open the file in read mode and read all its contents on to STDOUT.\n",
    "fd = open(\"myfile.txt\",\"r\")\n",
    "STDOUT = fd.read()\n",
    "print (\"Read String is : \",STDOUT)\n",
    "fd.close()\n",
    "\n",
    "#b) Open the file in write mode and enter 5 new lines of strings in to the new file.\n",
    "fd=open(\"newfile.txt\",\"w\")\n",
    "fd.write(\"so we have come to the end now\\ni dont think this is\\nyes very true\\n still to go\\n this is final now\")\n",
    "fd.close()\n",
    "\n",
    "#c) Open file in Append mode and add 5 lines of text into it.\n",
    "fd=open(\"myfile.txt\",\"a\")\n",
    "fd.write(\"\\nfinally\\nlast line!!\")\n",
    "fd.close()"
   ]
  },
  {
   "cell_type": "markdown",
   "metadata": {},
   "source": [
    "50) Write a program to open the existing file in read mode and perform following tasks,\n",
    "a) Rad 10 character at a time and then print its current position of file object. Repeat this operation till the EOF.\n",
    "b) Reset the file pointer after reading 100 Character from file (Use Seek function to reset)\n",
    "c) Open the file in read mode and start printing the contents from 5th line onwards."
   ]
  },
  {
   "cell_type": "code",
   "execution_count": 110,
   "metadata": {},
   "outputs": [
    {
     "name": "stdout",
     "output_type": "stream",
     "text": [
      "This is ne\n",
      "Location of cursor: 10\n",
      "s is secon\n",
      "Location of cursor: 31\n",
      "s is third\n",
      "Location of cursor: 52\n",
      "s allfinal\n",
      "Location of cursor: 73\n",
      "ne!!finall\n",
      "Location of cursor: 94\n",
      "e!!finally\n",
      "Location of cursor: 18446744073709551732\n",
      "!!\n",
      "finally\n",
      "Location of cursor: 137\n",
      "!!\n",
      "Location of cursor: 150\n",
      "This is new file\n",
      "This is second line\n",
      "this is third line\n",
      "thats allfinally\n",
      "last line!!finally\n",
      "last lin\n",
      "last line!!finally\n",
      "\n"
     ]
    }
   ],
   "source": [
    "#a) Read 10 character at a time and then print its current position of file object. Repeat this operation till the EOF.\n",
    "fd=open(\"myfile.txt\",\"r\")\n",
    "while(True):\n",
    "    a=fd.read(10)\n",
    "    if not a:\n",
    "        break\n",
    "    else:\n",
    "        print (a)\n",
    "        print(\"Location of cursor:\",fd.tell())\n",
    "        a=fd.read(10)\n",
    "fd.close()\n",
    "        \n",
    "#b) Reset the file pointer after reading 100 Character from file (Use Seek function to reset)\n",
    "fd=open(\"myfile.txt\",\"r\")\n",
    "print(fd.read(100))\n",
    "fd.seek(0,0)\n",
    "fd.close()\n",
    "\n",
    "#c) Open the file in read mode and start printing the contents from 5th line onwards.\n",
    "fd=open(\"myfile.txt\",\"r\")\n",
    "for i in range(5):\n",
    "    fd.readline()\n",
    "print(fd.readline())\n",
    "fd.close()"
   ]
  },
  {
   "cell_type": "markdown",
   "metadata": {},
   "source": [
    "51) In a given directory search all text files for the pattern \"Treasure\". \n",
    "a) Find how many text files has the pattern.\n",
    "b) Count how many times pattern repeats in each file Note: Create at least 4 text files in a directory and keep the pattern in at least 2 files. Repeat the pattern in the file many times.\n"
   ]
  },
  {
   "cell_type": "code",
   "execution_count": 114,
   "metadata": {},
   "outputs": [
    {
     "name": "stdout",
     "output_type": "stream",
     "text": [
      "File name: file.txt \n",
      "Count of letter Treasure in this file: 0\n",
      "File name: myfile - Copy.txt \n",
      "Count of letter Treasure in this file: 0\n",
      "File name: myfile.txt \n",
      "Count of letter Treasure in this file: 0\n",
      "File name: newfile.txt \n",
      "Count of letter Treasure in this file: 0\n",
      "Total counts of letter Treasure in all the files: 0\n"
     ]
    }
   ],
   "source": [
    "import glob\n",
    "totalCount = 0\n",
    "for eachfile in glob.glob(\"*.txt\"):\n",
    "    myfile = open(eachfile, \"r\")\n",
    "    list1 = myfile.read().split()\n",
    "    if \"Treasure\" in list1:\n",
    "        print (\"File name:\",eachfile,\"\\nCount of letter Treasure in this file:\", list1.count(\"Treasure\"))\n",
    "        totalCount += list1.count(\"Treasure\")\n",
    "    else:\n",
    "        print (\"File name:\",eachfile,\"\\nCount of letter Treasure in this file:\", 0)\n",
    "    myfile.close()        \n",
    "print (\"Total counts of letter Treasure in all the files:\", totalCount)\n"
   ]
  },
  {
   "cell_type": "raw",
   "metadata": {},
   "source": [
    "52) Open existing text file and reverse its contents. i.e\n",
    "a) print the last line as first line and first line as last line (Reverse the lines of the file)\n",
    "b) print characters of file from last character of file till the first character of the file.(Reverse entire contents of  file )\n"
   ]
  },
  {
   "cell_type": "code",
   "execution_count": 115,
   "metadata": {},
   "outputs": [
    {
     "name": "stdout",
     "output_type": "stream",
     "text": [
      "last line!!\n",
      "finally\n",
      "last line!!\n",
      "finally\n",
      "last line!!\n",
      "last line!!finally\n",
      "last line!!finally\n",
      "thats allfinally\n",
      "this is third line\n",
      "This is second line\n",
      "This is new file\n",
      "!!enil tsal\n",
      "yllanif\n",
      "!!enil tsal\n",
      "yllanif\n",
      "!!enil tsal\n",
      "yllanif!!enil tsal\n",
      "yllanif!!enil tsal\n",
      "yllaniflla staht\n",
      "enil driht si siht\n",
      "enil dnoces si sihT\n",
      "elif wen si sihT\n"
     ]
    }
   ],
   "source": [
    "#a) print the last line as first line and first line as last line (Reverse the lines of the file)\n",
    "strlist=[]\n",
    "for lines in reversed(open(\"myfile.txt\").readlines()):\n",
    "    print (lines.rstrip())\n",
    "    strlist.append(lines.rstrip())\n",
    "    \n",
    "#b) print characters of file from last character of file till the first character of the file.(Reverse entire contents of  file )\n",
    "\n",
    "for string in strlist:\n",
    "    print (string[::-1])"
   ]
  },
  {
   "cell_type": "markdown",
   "metadata": {},
   "source": [
    "53) Open the file is read & write mode and apply following functions\n",
    "a) All 13 functions mentioned in Tutorial File object table.\n"
   ]
  },
  {
   "cell_type": "code",
   "execution_count": 116,
   "metadata": {},
   "outputs": [
    {
     "name": "stdout",
     "output_type": "stream",
     "text": [
      "Name of the file:  file.txt\n",
      "Name of the file:  file.txt\n",
      "Name of the file:  file.txt\n",
      "File Descriptor:  4\n",
      "Name of the file: file.txt\n",
      "Return value :  False\n",
      "Name of the file:  file.txt\n",
      "Line No 0 - This is 6th line\n",
      "This is second line\n",
      "this is third line\n",
      "thats allfinally\n",
      "last line!!finally\n",
      "last line!!finally\n",
      "last line!!\n",
      "Pleasure\n",
      "Pleasure\n",
      "finally\n",
      "last line!!\n",
      "Name of the file:  file.txt\n",
      "Read Line: This is 6th line\n",
      "This is second line\n",
      "this is third line\n",
      "thats allfinally\n",
      "last line!!finally\n",
      "last lin\n",
      "Name of the file:  file.txt\n",
      "Read Line: This is 6th line\n",
      "\n",
      "Read Line: This \n",
      "Name of the file:  file.txt\n",
      "Read Line: ['This is 6th line\\n', 'This is second line\\n', 'this is third line\\n', 'thats allfinally\\n', 'last line!!finally\\n', 'last line!!finally\\n', 'last line!!\\n', 'Pleasure\\n', 'Pleasure\\n', 'finally\\n', 'last line!!']\n",
      "Read Line: []\n",
      "Name of the file:  file.txt\n",
      "Read Line: This is 6th line\n",
      "\n",
      "Read Line: This is 6th line\n",
      "\n",
      "Name of the file:  file.txt\n",
      "Read Line: This is 6th line\n",
      "\n",
      "Current Position: 18\n",
      "Name of the file:  file.txt\n",
      "Read Line: This is 6th line\n",
      "\n",
      "Read Line: This is second line\n",
      "\n",
      "Name of the file:  file.txt\n",
      "This is 6th line\n",
      "This is second line\n",
      "this is third line\n",
      "thats allfinally\n",
      "last line!!finally\n",
      "last line!!finally\n",
      "last line!!\n",
      "Pleasure\n",
      "Pleasure\n",
      "finally\n",
      "last line!!\n",
      "Name of the file:  file.txt\n",
      "This is 6th line\n",
      "This is second line\n",
      "this is third line\n",
      "thats allfinally\n",
      "last line!!finally\n",
      "last line!!finally\n",
      "last line!!\n",
      "Pleasure\n",
      "Pleasure\n",
      "finally\n",
      "last line!!\n"
     ]
    }
   ],
   "source": [
    "fo = open(\"file.txt\", \"r+\")\n",
    "print (\"Name of the file: \", fo.name)\n",
    "# Close opend file\n",
    "fo.close()\n",
    "\n",
    "\n",
    "fo = open(\"file.txt\", \"r\")\n",
    "print (\"Name of the file: \", fo.name)\n",
    "fo.flush()\n",
    "fo.close()\n",
    "\n",
    "fo = open(\"file.txt\", \"r+\")\n",
    "print (\"Name of the file: \", fo.name)\n",
    "fid = fo.fileno()\n",
    "print (\"File Descriptor: \", fid)\n",
    "fo.close()\n",
    "\n",
    "fo = open(\"file.txt\", \"r+\")\n",
    "print (\"Name of the file:\", fo.name)\n",
    "ret = fo.isatty()\n",
    "print (\"Return value : \", ret)\n",
    "fo.close()\n",
    "\n",
    "fo = open(\"file.txt\", \"r+\")\n",
    "print (\"Name of the file: \", fo.name)\n",
    "for index in range(1):\n",
    "    line = fo.read()\n",
    "    print (\"Line No %d - %s\" % (index, line))\n",
    "fo.close()\n",
    "\n",
    "fo = open(\"file.txt\", \"r+\")\n",
    "print (\"Name of the file: \", fo.name)\n",
    "line = fo.read(100)\n",
    "print (\"Read Line: %s\" % (line))\n",
    "fo.close()\n",
    "\n",
    "fo = open(\"file.txt\", \"r+\")\n",
    "print (\"Name of the file: \", fo.name)\n",
    "line = fo.readline()\n",
    "print (\"Read Line: %s\" % (line))\n",
    "line = fo.readline(5)\n",
    "print (\"Read Line: %s\" % (line))\n",
    "fo.close()\n",
    "\n",
    "fo = open(\"file.txt\", \"r+\")\n",
    "print (\"Name of the file: \", fo.name)\n",
    "line = fo.readlines()\n",
    "print (\"Read Line: %s\" % (line))\n",
    "line = fo.readlines(2)\n",
    "print (\"Read Line: %s\" % (line))\n",
    "fo.close()\n",
    "\n",
    "fo = open(\"file.txt\", \"r+\")\n",
    "print (\"Name of the file: \", fo.name)\n",
    "line = fo.readline()\n",
    "print (\"Read Line: %s\" % (line))\n",
    "# Again set the pointer to the beginning\n",
    "fo.seek(0, 0)\n",
    "line = fo.readline()\n",
    "print (\"Read Line: %s\" % (line))\n",
    "fo.close()\n",
    "\n",
    "fo = open(\"file.txt\", \"r+\")\n",
    "print (\"Name of the file: \", fo.name)\n",
    "line = fo.readline()\n",
    "print (\"Read Line: %s\" % (line))\n",
    "# Get the current position of the file.\n",
    "pos = fo.tell()\n",
    "print (\"Current Position: %d\" % (pos))\n",
    "# Close opend file\n",
    "fo.close()\n",
    "\n",
    "\n",
    "fo = open(\"file.txt\", \"r+\")\n",
    "print (\"Name of the file: \", fo.name)\n",
    "line = fo.readline()\n",
    "print (\"Read Line: %s\" % (line))\n",
    "# Now truncate remaining file.\n",
    "fo.truncate()\n",
    "# Try to read file now\n",
    "line = fo.readline()\n",
    "print (\"Read Line: %s\" % (line))\n",
    "fo.close()\n",
    "\n",
    "fo = open(\"file.txt\", \"r+\")\n",
    "print (\"Name of the file: \", fo.name)\n",
    "str = \"This is 6th line\"\n",
    "# Write a line at the end of the file.\n",
    "#fo.seek(0, 1)\n",
    "line = fo.write( str )\n",
    "# Now read complete file from beginning.\n",
    "fo.seek(0,0)\n",
    "lines=fo.read()\n",
    "print (lines)\n",
    "fo.close()\n",
    "\n",
    "fo = open(\"file.txt\", \"r+\")\n",
    "print (\"Name of the file: \", fo.name)\n",
    "str = \"This is 6th line\"\n",
    "# Write a line at the end of the file.\n",
    "#fo.seek(0, 1)\n",
    "line = fo.writelines( str )\n",
    "\n",
    "# Now read complete file from beginning.\n",
    "fo.seek(0,0)\n",
    "lines =fo.read()\n",
    "print(lines)\n",
    "fo.close()"
   ]
  },
  {
   "cell_type": "markdown",
   "metadata": {},
   "source": [
    "54) Write a program to handle the following exceptions in you program.\n",
    "a) KeyboardInterrupt\n",
    "b) NameError \n",
    "c) ArithmeticError Note: Make use of try, except, else: block statements.\n"
   ]
  },
  {
   "cell_type": "code",
   "execution_count": 122,
   "metadata": {},
   "outputs": [
    {
     "name": "stdout",
     "output_type": "stream",
     "text": [
      "1\n",
      "2\n",
      "3\n",
      "4\n",
      "Program KeyboardInterrupt executed successfully\n",
      "Enter your name:p\n",
      "Good Morning p\n",
      "Program NameError executed successfully\n",
      "First number8\n",
      "Second number0\n",
      "ArithmeticError\n"
     ]
    }
   ],
   "source": [
    "#a) KeyboardInterrupt\n",
    "import time\n",
    "i=1\n",
    "try:\n",
    "    while(i<5):\n",
    "        time.sleep(1)\n",
    "        print (i)\n",
    "        i+=1\n",
    "except KeyboardInterrupt:\n",
    "    print (\"KeyboardInterrupt\")\n",
    "else:\n",
    "    print(\"Program KeyboardInterrupt executed successfully\")\n",
    "    \n",
    "#b) NameError\n",
    "try:\n",
    "    name = input(\"Enter your name:\")\n",
    "    print (\"Good Morning \"+ name)\n",
    "except NameError:#Enter your name in Quotes else NameError msg will appear\n",
    "    print (\"NameError\")\n",
    "else:\n",
    "    print(\"Program NameError executed successfully\")\n",
    "\n",
    "#c) ArithmeticError\n",
    "try:\n",
    "    a = eval(input(\"First number\"))\n",
    "    b = eval(input(\"Second number\"))\n",
    "    z=a/b\n",
    "except ArithmeticError:\n",
    "    print (\"ArithmeticError\")\n",
    "else:\n",
    "    print(\"Program ArithmeticError executed successfully\")\n",
    "    "
   ]
  },
  {
   "cell_type": "markdown",
   "metadata": {},
   "source": [
    "55) Write a program for converting weight from Pound to Kilo grams.\n",
    "a) Use assertion for the negative weight.\n",
    "b) Use assertion to weight more than 100 KG\n"
   ]
  },
  {
   "cell_type": "code",
   "execution_count": 126,
   "metadata": {},
   "outputs": [
    {
     "name": "stdout",
     "output_type": "stream",
     "text": [
      "19.504456\n",
      "Negative weight not allowed\n"
     ]
    }
   ],
   "source": [
    "#a) Use assertion for the negative weight.\n",
    "def PoundToKg(pound):\n",
    "    try:\n",
    "        assert (pound>=0),\"Negative weight not allowed\"\n",
    "        return pound*0.453592\n",
    "    except AssertionError as exp:\n",
    "        return exp\n",
    "a = PoundToKg(43)\n",
    "print(a)\n",
    "b = PoundToKg(-13)\n",
    "print(b)\n",
    "\n",
    "#b) Use assertion to weight more than 100 KG\n",
    "def PoundToKg(pound):\n",
    "  try:\n",
    "    assert (pound>=100), \"Weight should be more than or equal to 100\"\n",
    "    return pound*0.453592\n",
    "  except AssertionError as exp:\n",
    "    return exp\n",
    "print (PoundToKg(56))\n",
    "print (PoundToKg(101))"
   ]
  },
  {
   "cell_type": "markdown",
   "metadata": {},
   "source": [
    "56) Write a program to handle following exceptions using Try block.\n",
    "a) IO Error while you try writing contents into the file that is opened in read mode only.\n",
    "b) ValueError\n"
   ]
  },
  {
   "cell_type": "code",
   "execution_count": 134,
   "metadata": {},
   "outputs": [
    {
     "name": "stdout",
     "output_type": "stream",
     "text": [
      "This is 6th line\n",
      "This is second line\n",
      "this is third line\n",
      "thats allfinally\n",
      "last line!!finally\n",
      "last line!!finally\n",
      "last line!!\n",
      "Pleasure\n",
      "Pleasure\n",
      "finally\n",
      "last line!!\n",
      "Writing mode is not allowed\n",
      "Enter value:h\n",
      "ValueError\n"
     ]
    },
    {
     "data": {
      "text/plain": [
       "\"Output Extract:\\nEnter value:'trttr'\\nValueError\""
      ]
     },
     "execution_count": 134,
     "metadata": {},
     "output_type": "execute_result"
    }
   ],
   "source": [
    "#a) IO Error while you try writing contents into the file that is opened in read mode only.\n",
    "\n",
    "try:\n",
    "    myfile =open(\"file.txt\",\"r\")\n",
    "    print (myfile.read())\n",
    "    myfile.write(\"Hello\")\n",
    "except IOError:\n",
    "    print (\"Writing mode is not allowed\")\n",
    "\n",
    "#b) ValueError\n",
    "try:\n",
    "    num = int(input(\"Enter value:\"))\n",
    "except ValueError:\n",
    "    print (\"ValueError\")\n"
   ]
  },
  {
   "cell_type": "markdown",
   "metadata": {},
   "source": [
    "57) Try implementing atleast any 5 exceptions in you program."
   ]
  },
  {
   "cell_type": "code",
   "execution_count": 140,
   "metadata": {},
   "outputs": [
    {
     "name": "stdout",
     "output_type": "stream",
     "text": [
      "Arithmetic error exception\n",
      "system exit exception\n",
      "Overflow error exception\n",
      "ValueError\n",
      "Zero Division exception\n",
      "Attribute error\n",
      "Import error exception\n",
      "Lookup error\n",
      "IndexOutofbound\n",
      "p\n",
      "i\n",
      "Key Error\n",
      "UnboundLocalError!\n",
      "IOError!\n",
      "Syntax Error !\n",
      "Type Error\n",
      "Value Error\n",
      "Runtime Error occured !\n"
     ]
    }
   ],
   "source": [
    "import math\n",
    "import sys\n",
    "import time\n",
    "#Exception\n",
    "try:\n",
    "    num=a/2\n",
    "except Exception:\n",
    "    print(\"Exception\")\n",
    "\n",
    "#Standard error\n",
    "try:\n",
    "    f0=open(\"myfile.txt\",\"r\")\n",
    "except StandardError:\n",
    "    print(\"Standard error:No file exists\")\n",
    "\n",
    "#Arithmetic error\n",
    "try:\n",
    "    div=2/0\n",
    "except ArithmeticError:\n",
    "    print(\"Arithmetic error exception\")\n",
    "\n",
    "#Systemexit\n",
    "try:\n",
    "    sys.exit()\n",
    "except SystemExit:\n",
    "    print (\"system exit exception\")\n",
    "\n",
    "\n",
    "#Overflow error\n",
    "try:\n",
    "    a=math.exp(4/42*349304332)\n",
    "except OverflowError:\n",
    "    print (\"Overflow error exception\")\n",
    "\n",
    "#Value error\n",
    "try:\n",
    "    a=math.sqrt(-32/3)\n",
    "except ValueError:\n",
    "    print (\"ValueError\")\n",
    "\n",
    "#Zero division error\n",
    "try:\n",
    "    a=2/0\n",
    "except ZeroDivisionError:\n",
    "    print (\"Zero Division exception\")\n",
    "\n",
    "#AssertionErrror\n",
    "try:\n",
    "    a=12\n",
    "    assert (a>10),\"assertion error\"\n",
    "except AssertionError:\n",
    "    print (\"Assertion error\")\n",
    "    \n",
    "#Attribute Error\n",
    "try:\n",
    "    raise AttributeError\n",
    "except AttributeError:\n",
    "    print (\"Attribute error\")\n",
    "\n",
    "#EOF error\n",
    "try:\n",
    "    fo=open(\"file.txt\",\"r\")\n",
    "    fo.read()\n",
    "except EOFError:\n",
    "    print (\"EOF error\")\n",
    "\n",
    "#import error\n",
    "try:\n",
    "    import dummy\n",
    "except ImportError:\n",
    "    print (\"Import error exception\")\n",
    "\n",
    "#look up error\n",
    "dict = {'empid':'empname'}\n",
    "try:\n",
    "    print (dict['abc'])\n",
    "except LookupError:\n",
    "    print ('Lookup error')\n",
    "    \n",
    "#index error\n",
    "try:\n",
    "    list1=[12,13,14,45,34]\n",
    "    print (list1[9])\n",
    "except IndexError:\n",
    "    print (\"IndexOutofbound\")\n",
    "\n",
    "#name error:\n",
    "try:\n",
    "    print (name)\n",
    "except NameError:\n",
    "    print (\"Name Error\")\n",
    "    \n",
    "#keyboard interrupt\n",
    "try:\n",
    "    x=input()\n",
    "    time.sleep(1)\n",
    "except KeyboardInterrupt:\n",
    "    print (\"Keyboard interrupt\")\n",
    "\n",
    "#KeyError\n",
    "try:\n",
    "    print (dict['1'])\n",
    "except:\n",
    "    print ('Key Error')\n",
    "\n",
    "#Unbound Local Error\n",
    "try:\n",
    "    raise UnboundLocalError\n",
    "except UnboundLocalError:\n",
    "    print ('UnboundLocalError!')\n",
    "#IOError\n",
    "try:\n",
    "    fo = open('file.txt',\"r\")\n",
    "    fo.write('write hereafter')\n",
    "except IOError:\n",
    "    print ('IOError!')\n",
    "\n",
    "#SyntaxError\n",
    "try:\n",
    "    raise SyntaxError\n",
    "except SyntaxError:\n",
    "    print ('Syntax Error !')\n",
    "\n",
    "#TypeError\n",
    "try:\n",
    "    str ='hello'\n",
    "    str = str-1\n",
    "except TypeError:\n",
    "    print ('Type Error')\n",
    "\n",
    "#ValueError\n",
    "try:\n",
    "    str = 'hello'\n",
    "    print (int(str))\n",
    "except ValueError:\n",
    "    print ('Value Error')\n",
    "\n",
    "#Runtime Error\n",
    "try:\n",
    "    raise RuntimeError\n",
    "except RuntimeError:\n",
    "    print ('Runtime Error occured !')\n"
   ]
  },
  {
   "cell_type": "markdown",
   "metadata": {},
   "source": [
    "58) Create file called  \"calc.py\" which has following functions\n",
    "i) functions to add 2 numbers\n",
    "ii) function to find diff of 2 numbers\n",
    "iii) function to multiply 2 numbers\n",
    "iv) all maths operations ( sqrt, div, floor div, modulus, primenumber)\n",
    "v) Fibonacci series\n",
    "        \n",
    "a) Write a new program in file \"maths.py\" such that you import functions of file \"calc.py\" to your new program\n",
    "b) Use From <module> import <function> statement to import only few function  from calc module.\n"
   ]
  },
  {
   "cell_type": "code",
   "execution_count": 148,
   "metadata": {},
   "outputs": [
    {
     "name": "stdout",
     "output_type": "stream",
     "text": [
      "Enter the no of terms:7\n",
      "0\n",
      "1\n",
      "1\n",
      "2\n",
      "3\n",
      "5\n",
      "8\n",
      "Enter a number to verify if it is  prime1\n"
     ]
    }
   ],
   "source": [
    "#calc.py\n",
    "import math\n",
    "\n",
    "def add(a,b):\n",
    "    print (\"Sum of a and b is\",a+b)\n",
    "    \n",
    "def diff(a,b):\n",
    "    print (\"Difference of a and b is\",a-b)\n",
    "    \n",
    "def multiply(a,b):\n",
    "    print (\"Multiplication of a and b is\",a*b)\n",
    "\n",
    "def div(a,b):\n",
    "    print (\"Division of a and  b is\",a/b)\n",
    "    \n",
    "def sqroot(a):\n",
    "    print (\"Square root of the number\",a,\"is\", math.sqrt(a))\n",
    "    \n",
    "def floor_div(a,b):\n",
    "    print (\"Floor division of a and b is\", a//b)\n",
    "    \n",
    "def fib(nterms):\n",
    "    a=0\n",
    "    b=1\n",
    "    if nterms<=0:\n",
    "        print(\"please enter positive number\")\n",
    "    elif nterms==1:\n",
    "        print(\"Fibonacci series:\",a)\n",
    "    elif nterms==2:\n",
    "        print (a)\n",
    "        print (b)\n",
    "    else:\n",
    "        print (a)\n",
    "        print (b)\n",
    "        while(nterms>2):\n",
    "            numnext=a+b\n",
    "            print (numnext)\n",
    "            a=b\n",
    "            b=numnext\n",
    "            nterms=nterms-1\n",
    "def isprime(num):\n",
    "    for i in range(2,num-1):\n",
    "        if num%i==0:\n",
    "            print (num,\"not prime\")\n",
    "            break\n",
    "        else:\n",
    "            print (num,\"is prime\")\n",
    "            break\n",
    "            \n",
    "n=int(input(\"Enter the no of terms:\"))\n",
    "fib(n)\n",
    "number=int(input(\"Enter a number to verify if it is  prime\"))        \n",
    "isprime(number)        \n"
   ]
  },
  {
   "cell_type": "code",
   "execution_count": 146,
   "metadata": {},
   "outputs": [
    {
     "ename": "ModuleNotFoundError",
     "evalue": "No module named 'calc'",
     "output_type": "error",
     "traceback": [
      "\u001b[1;31m---------------------------------------------------------------------------\u001b[0m",
      "\u001b[1;31mModuleNotFoundError\u001b[0m                       Traceback (most recent call last)",
      "\u001b[1;32m<ipython-input-146-a261bd313e5d>\u001b[0m in \u001b[0;36m<module>\u001b[1;34m\u001b[0m\n\u001b[0;32m      1\u001b[0m \u001b[1;31m#math.py\u001b[0m\u001b[1;33m\u001b[0m\u001b[1;33m\u001b[0m\u001b[1;33m\u001b[0m\u001b[0m\n\u001b[1;32m----> 2\u001b[1;33m \u001b[1;32mfrom\u001b[0m \u001b[0mcalc\u001b[0m \u001b[1;32mimport\u001b[0m \u001b[1;33m*\u001b[0m\u001b[1;33m\u001b[0m\u001b[1;33m\u001b[0m\u001b[0m\n\u001b[0m\u001b[0;32m      3\u001b[0m \u001b[0madd\u001b[0m\u001b[1;33m(\u001b[0m\u001b[1;36m4\u001b[0m\u001b[1;33m,\u001b[0m\u001b[1;36m5\u001b[0m\u001b[1;33m)\u001b[0m\u001b[1;33m\u001b[0m\u001b[1;33m\u001b[0m\u001b[0m\n\u001b[0;32m      4\u001b[0m \u001b[0mdiff\u001b[0m\u001b[1;33m(\u001b[0m\u001b[1;36m34\u001b[0m\u001b[1;33m,\u001b[0m\u001b[1;36m12\u001b[0m\u001b[1;33m)\u001b[0m\u001b[1;33m\u001b[0m\u001b[1;33m\u001b[0m\u001b[0m\n\u001b[0;32m      5\u001b[0m \u001b[0mmultiply\u001b[0m\u001b[1;33m(\u001b[0m\u001b[1;36m5\u001b[0m\u001b[1;33m,\u001b[0m\u001b[1;36m7\u001b[0m\u001b[1;33m)\u001b[0m\u001b[1;33m\u001b[0m\u001b[1;33m\u001b[0m\u001b[0m\n",
      "\u001b[1;31mModuleNotFoundError\u001b[0m: No module named 'calc'"
     ]
    }
   ],
   "source": [
    "#math.py\n",
    "from calc import *\n",
    "add(4,5)\n",
    "diff(34,12)\n",
    "multiply(5,7)\n",
    "div(6,2)\n",
    "sqroot(9)\n",
    "floor_div(33,5)\n",
    "fib(8)\n",
    "isprime(443)"
   ]
  },
  {
   "cell_type": "markdown",
   "metadata": {},
   "source": [
    "59) Create file called \"stringop.py\" which has following functions\n",
    "i) functions to sort numbers (Use loops for  sorting, do not use built in function)\n",
    "ii) function to search given element through binary search method.(Refer to net for the Binary search algorithm)\n",
    "iii) function to reverse the given string \n",
    "Write new program in file strpackage.py such that you import functions of file \"stringop.py\" to your new program\n"
   ]
  },
  {
   "cell_type": "code",
   "execution_count": 100,
   "metadata": {},
   "outputs": [
    {
     "ename": "ModuleNotFoundError",
     "evalue": "No module named 'stringop'",
     "output_type": "error",
     "traceback": [
      "\u001b[1;31m---------------------------------------------------------------------------\u001b[0m",
      "\u001b[1;31mModuleNotFoundError\u001b[0m                       Traceback (most recent call last)",
      "\u001b[1;32m<ipython-input-100-9790f32405a0>\u001b[0m in \u001b[0;36m<module>\u001b[1;34m\u001b[0m\n\u001b[0;32m     33\u001b[0m \u001b[1;33m\u001b[0m\u001b[0m\n\u001b[0;32m     34\u001b[0m \u001b[1;31m# strpackage.py\u001b[0m\u001b[1;33m\u001b[0m\u001b[1;33m\u001b[0m\u001b[1;33m\u001b[0m\u001b[0m\n\u001b[1;32m---> 35\u001b[1;33m \u001b[1;32mfrom\u001b[0m \u001b[0mstringop\u001b[0m \u001b[1;32mimport\u001b[0m \u001b[1;33m*\u001b[0m\u001b[1;33m\u001b[0m\u001b[1;33m\u001b[0m\u001b[0m\n\u001b[0m\u001b[0;32m     36\u001b[0m \u001b[0msortNumbers\u001b[0m\u001b[1;33m(\u001b[0m\u001b[1;33m[\u001b[0m\u001b[1;36m34\u001b[0m\u001b[1;33m,\u001b[0m\u001b[1;36m56\u001b[0m\u001b[1;33m,\u001b[0m\u001b[1;36m21\u001b[0m\u001b[1;33m,\u001b[0m\u001b[1;36m11\u001b[0m\u001b[1;33m,\u001b[0m\u001b[1;36m3\u001b[0m\u001b[1;33m]\u001b[0m\u001b[1;33m)\u001b[0m\u001b[1;33m\u001b[0m\u001b[1;33m\u001b[0m\u001b[0m\n\u001b[0;32m     37\u001b[0m \u001b[0mprint\u001b[0m \u001b[1;33m(\u001b[0m\u001b[1;34m\"binarySearch([22,33,44,12,34]):\"\u001b[0m\u001b[1;33m,\u001b[0m \u001b[0mbinarySearch\u001b[0m\u001b[1;33m(\u001b[0m\u001b[1;33m[\u001b[0m\u001b[1;36m22\u001b[0m\u001b[1;33m,\u001b[0m\u001b[1;36m33\u001b[0m\u001b[1;33m,\u001b[0m\u001b[1;36m44\u001b[0m\u001b[1;33m,\u001b[0m\u001b[1;36m12\u001b[0m\u001b[1;33m,\u001b[0m\u001b[1;36m34\u001b[0m\u001b[1;33m]\u001b[0m\u001b[1;33m,\u001b[0m\u001b[1;36m22\u001b[0m\u001b[1;33m)\u001b[0m\u001b[1;33m)\u001b[0m\u001b[1;33m\u001b[0m\u001b[1;33m\u001b[0m\u001b[0m\n",
      "\u001b[1;31mModuleNotFoundError\u001b[0m: No module named 'stringop'"
     ]
    }
   ],
   "source": [
    "#stringop.py\n",
    "def sortNumbers(num):\n",
    "    for i in range(len(num)-1):\n",
    "        for j in range(len(num)-1):\n",
    "            if num[j] > num[j+1]:\n",
    "                temp = num[j]\n",
    "                num[j] = num[j+1]\n",
    "                num[j+1] = temp\n",
    "    print (\"Sorted numbers:\", num)\n",
    "    \n",
    "def binarySearch(list1, item):\n",
    "    list1.sort()\n",
    "    first = 0\n",
    "    last = len(list1)-1\n",
    "    found = False\n",
    "    \n",
    "    while first<=last and not found:\n",
    "        midpoint = (first+last)/2\n",
    "        if list1[midpoint] == item:\n",
    "            found = True\n",
    "            return found\n",
    "        else:\n",
    "            if item < list1[midpoint]:\n",
    "                last = midpoint-1\n",
    "            else:\n",
    "                first = midpoint+1\n",
    "    return found\n",
    "\n",
    "def reverselist(list2):\n",
    "    print (list2.reverse())\n",
    "    print (\"reversed list :\", list2)\n",
    "\n",
    "# strpackage.py\n",
    "from stringop import *\n",
    "sortNumbers([34,56,21,11,3])\n",
    "print (\"binarySearch([22,33,44,12,34]):\", binarySearch([22,33,44,12,34],22))\n",
    "reverselist([11,22,12,10,32,13])\n"
   ]
  },
  {
   "cell_type": "markdown",
   "metadata": {},
   "source": [
    "60) Create a package of all programs you have done in earlier.\n",
    "        a. All programs related to strings - Stringpackage\n",
    "        b. All programs related to Lists -ListPackage\n",
    "        c. All programs related to Tuple - TuplePackage\n",
    "        d. All programs related to Dictionary -DictionaryPackage\n",
    "        e. All programs related to Functions - FunctionPackage\n",
    "        f. All programs related to Files  -- FilePackage\n"
   ]
  },
  {
   "cell_type": "code",
   "execution_count": null,
   "metadata": {},
   "outputs": [],
   "source": []
  }
 ],
 "metadata": {
  "kernelspec": {
   "display_name": "Python 3",
   "language": "python",
   "name": "python3"
  },
  "language_info": {
   "codemirror_mode": {
    "name": "ipython",
    "version": 3
   },
   "file_extension": ".py",
   "mimetype": "text/x-python",
   "name": "python",
   "nbconvert_exporter": "python",
   "pygments_lexer": "ipython3",
   "version": "3.7.3"
  }
 },
 "nbformat": 4,
 "nbformat_minor": 2
}
