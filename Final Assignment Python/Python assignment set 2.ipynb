{
 "cells": [
  {
   "cell_type": "markdown",
   "metadata": {},
   "source": [
    "21) Using the built-in functions on Numbers perform following operations\n",
    "a) Round of the given floating point number. Example:  n=0.543 then round it next decimal number, i.e n=1.0 Use round() function\n",
    "b) Find out the square root of a given number. (Use sqrt(x) function)\n",
    "c) Generate random number between 0, and 1 ( use  random() function)\n",
    "d) Generate random number between 10 and  500. (Use uniform() function)\n",
    "e) Explore all Math and Random module functions  on a given number/ List."
   ]
  },
  {
   "cell_type": "code",
   "execution_count": 50,
   "metadata": {},
   "outputs": [
    {
     "name": "stdout",
     "output_type": "stream",
     "text": [
      "124\n",
      "11.128791488746655\n",
      "0.6009614874626248\n",
      "140.69971541538118\n",
      "cos of an angel is 0.5253219888177297\n",
      "acos of 0.5 1.0471975511965979\n",
      "Ceiling value of Positive Number = 11\n",
      "Ceiling value of Negative Number = -14\n",
      "Floor value of Positive Number = 10\n",
      "Floor value of Negative Number = -15\n",
      "The Value of 'PI' after the Ceil function is:  4\n",
      "The Value of 'PI' after the floor function is:  3\n",
      "Factorial of 10 3628800\n",
      "power function: 100.0\n",
      "square root of 10 is: 3.1622776601683795\n",
      "random integer 3\n",
      "random number between 0 and 1 is 0.5413130935453321\n",
      "random range  16\n"
     ]
    }
   ],
   "source": [
    "### a) Round of the given floating point number. \n",
    "#Example:  n=0.543 then round it next decimal number, i.e n=1.0 Use round() function\n",
    "n = 123.85\n",
    "print(round(n))\n",
    "\n",
    "#b) Find out the square root of a given number. (Use sqrt(x) function)\n",
    "import math as mh,random as rd\n",
    "print(mh.sqrt(123.85))\n",
    "\n",
    "#c) Generate random number between 0, and 1 ( use  random() function)\n",
    "print(rd.random())\n",
    "\n",
    "#d) Generate random number between 10 and  500. (Use uniform() function)\n",
    "print(rd.uniform(10,500))\n",
    "\n",
    "#e) Explore all Math and Random module functions  on a given number/ List.\n",
    "dir()\n",
    "\n",
    "#math module functions\n",
    "import math\n",
    "dir(math)\n",
    "\n",
    "#trignometric functions\n",
    "print('cos of an angel is',math.cos(45))\n",
    "print('acos of 0.5',math.acos(0.5))\n",
    "\n",
    "#ceil function\n",
    "print('Ceiling value of Positive Number = %d' %math.ceil(10.10))\n",
    "print('Ceiling value of Negative Number = %d' %math.ceil(-14.95))\n",
    "\n",
    "#floor fuction\n",
    "print('Floor value of Positive Number = %d' %math.floor(10.10))\n",
    "print('Floor value of Negative Number = %d' %math.floor(-14.95))\n",
    "\n",
    "#data member pi\n",
    "print(\"The Value of 'PI' after the Ceil function is: \", math.ceil(math.pi))\n",
    "print(\"The Value of 'PI' after the floor function is: \", math.floor(math.pi))\n",
    "\n",
    "#factorial\n",
    "print('Factorial of %d' %10, math.factorial(10))\n",
    "\n",
    "#power fuction\n",
    "print('power function:', math.pow(10,2))\n",
    "\n",
    "#square root\n",
    "print('square root of %d is:' %10, math.sqrt(10))\n",
    "\n",
    "\n",
    "\n",
    "#random module functions\n",
    "import random\n",
    "dir(random)\n",
    "\n",
    "#randint function\n",
    "print('random integer',random.randint(1,3))\n",
    "print('random number between 0 and 1 is',random.random())\n",
    "print('random range ',random.randrange(30))\n"
   ]
  },
  {
   "cell_type": "markdown",
   "metadata": {},
   "source": [
    "22) Read the value x and y from the user and apply all trigonometric functions on these numbers. Note: Refer the tutorial Trigonometric operation table."
   ]
  },
  {
   "cell_type": "code",
   "execution_count": 74,
   "metadata": {},
   "outputs": [
    {
     "name": "stdout",
     "output_type": "stream",
     "text": [
      "Enter an angle between from 0 to 36040\n",
      "Enter a number from 0 to 10.1\n",
      "sin of 40 is 0.745113\n",
      "cos of 40 is -0.666938\n",
      "tan of 40 is -1.117215\n",
      "asin of 0.100000 is 0.100167\n",
      "acos of 0.100000 is 1.470629\n",
      "atan of 0.100000 is 0.099669\n"
     ]
    }
   ],
   "source": [
    "x= eval(input(\"Enter an angle between from 0 to 360\"))\n",
    "y= eval(input(\"Enter a number from 0 to 1\"))\n",
    "\n",
    "dir(math)\n",
    "\n",
    "#trignometric functions\n",
    "\n",
    "#sin,cos,tan\n",
    "print ('sin of %d is %f' %(x,math.sin(x)))\n",
    "print ('cos of %d is %f' %(x,math.cos(x)))\n",
    "print ('tan of %d is %f' %(x,math.tan(x)))\n",
    "\n",
    "#asin,acos,atan\n",
    "print ('asin of %f is %f' %(y,math.asin(y)))\n",
    "print ('acos of %f is %f' %(y,math.acos(y)))\n",
    "print ('atan of %f is %f' %(y,math.atan(y)))\n"
   ]
  },
  {
   "cell_type": "markdown",
   "metadata": {},
   "source": [
    "23) Find the area of Circle given that radius of a circle. (Use pi value from Math module as mathematical constant)"
   ]
  },
  {
   "cell_type": "code",
   "execution_count": 84,
   "metadata": {},
   "outputs": [
    {
     "name": "stdout",
     "output_type": "stream",
     "text": [
      "Area of circle with radius 4 is: 50.26548245743669\n"
     ]
    }
   ],
   "source": [
    "r = 4\n",
    "\n",
    "print('Area of circle with radius %d is:' %r, math.pi*math.pow(r,2))"
   ]
  },
  {
   "cell_type": "markdown",
   "metadata": {},
   "source": [
    "24) Special Characters: Write program to explore all Escape characters specified in Tutorial (Under String chapter)"
   ]
  },
  {
   "cell_type": "code",
   "execution_count": 86,
   "metadata": {},
   "outputs": [
    {
     "name": "stdout",
     "output_type": "stream",
     "text": [
      "The string after resolving escape character is : \n",
      "I\n",
      "Love\tPython programming\n"
     ]
    }
   ],
   "source": [
    "#'\\n'  -->  Leaves a line\n",
    "#'\\t'  -->  Leaves a space \n",
    "str = \"I\\nLove\\tPython programming\"\n",
    "  \n",
    "print (\"The string after resolving escape character is : \") \n",
    "print (str) "
   ]
  },
  {
   "cell_type": "markdown",
   "metadata": {},
   "source": [
    "25) Write a program to print the different data types (Numbers, strings characters) using the Format symbols (Refer to different format symbols specified in Tutorial)"
   ]
  },
  {
   "cell_type": "code",
   "execution_count": 202,
   "metadata": {},
   "outputs": [
    {
     "name": "stdout",
     "output_type": "stream",
     "text": [
      "The integer value is 10 type is <class 'int'>\n",
      "The float value is 123.450000 type is <class 'float'>\n",
      "The string value is python type is <class 'str'>\n",
      "The bool value is True type is <class 'bool'>\n",
      "The complex value (5+6j) type is <class 'float'>\n"
     ]
    }
   ],
   "source": [
    "a=10\n",
    "b=123.45\n",
    "c='python'\n",
    "d=True\n",
    "e=5+6j\n",
    "\n",
    "print(\"The integer value is %d\" %a, \"type is\", type(a))\n",
    "print(\"The float value is %f\" %b, \"type is\", type(b))\n",
    "print(\"The string value is %s\" %c, \"type is\", type(c))\n",
    "print(\"The bool value is %s\" %d, \"type is\", type(d))\n",
    "print(\"The complex value\",e,\"type is\", type(b))"
   ]
  },
  {
   "cell_type": "markdown",
   "metadata": {},
   "source": [
    "26) Receive the encoded string from your friend & decode it to check the original message. PS: You will receive Encoded string and the Algorithm used for encoding."
   ]
  },
  {
   "cell_type": "code",
   "execution_count": 219,
   "metadata": {},
   "outputs": [
    {
     "name": "stdout",
     "output_type": "stream",
     "text": [
      "Enter encoded string:b'dGhpcyBpcyBzdHJpbmcgZXhhbXBsZS4uLi53b3chISE='\n",
      "Enter encoding algorithm:utf_8\n",
      "The decoded data is: this is string example....wow!!!\n"
     ]
    }
   ],
   "source": [
    "#Below values can be used for referrence\n",
    "#encoded value- b'ZGF0YSB0byBiZSBlbmNvZGVk'\n",
    "#decoded value- b'data to be encoded'\n",
    "#encoding algorithm - utf-8\n",
    "\n",
    "encoded = eval(input(\"Enter encoded string:\"))\n",
    "alg = input(\"Enter encoding algorithm:\")\n",
    "data = base64.b64decode(encoded)\n",
    "data = data.decode(alg,errors = 'strict')\n",
    "print(\"The decoded data is:\",data)\n"
   ]
  },
  {
   "cell_type": "markdown",
   "metadata": {},
   "source": [
    "27) Write a program to check given string is Palindrome or not.That is reverse the given string and check whether it is same as original string, if so then it is palindrome.\n",
    "Example: String = \"malayalam\"  reverse string = \"malayalam\" hence given string is palindrome. Use built functions to check given string is palindrome or not."
   ]
  },
  {
   "cell_type": "code",
   "execution_count": 224,
   "metadata": {},
   "outputs": [
    {
     "name": "stdout",
     "output_type": "stream",
     "text": [
      "Given string malayalam is a palindrome\n"
     ]
    }
   ],
   "source": [
    "str = 'malayalam'\n",
    "rev = str[::-1]\n",
    "if rev == str:\n",
    "    print(\"Given string\",str,\"is a palindrome\")\n",
    "else:\n",
    "    print(\"Given string\",str,\"is not a palindrome\")"
   ]
  },
  {
   "cell_type": "markdown",
   "metadata": {},
   "source": [
    "28) Write a program to check how many ovals present in the given string. That is, count the number of \" a e i o u\" in the given string and print the numbers against each oval. Example:- \"This is Python\" Number of total ovals = 3, i = 2, o =1"
   ]
  },
  {
   "cell_type": "code",
   "execution_count": 238,
   "metadata": {},
   "outputs": [
    {
     "name": "stdout",
     "output_type": "stream",
     "text": [
      "this is python this is python\n",
      "[0, 0, 4, 2, 0]\n",
      "The given string is This Is python This Is Python\n",
      "Total numbe of vowels are 6\n",
      "a = 0 , e = 0 , i = 4 , o = 2 , u = 0\n"
     ]
    }
   ],
   "source": [
    "str = \"This Is python This Is Python\"\n",
    "newstr = str.lower()\n",
    "print(newstr)\n",
    "a,e,i,o,u = 0,0,0,0,0\n",
    "for j in range(0,len(newstr)):\n",
    "    if newstr[j]=='a':\n",
    "        a+=1\n",
    "    elif newstr[j]=='e':\n",
    "        e+=1\n",
    "    elif newstr[j]=='i':\n",
    "        i+=1\n",
    "    elif newstr[j]=='o':\n",
    "        o+=1\n",
    "    elif newstr[j]=='u':\n",
    "        u+=1\n",
    "    else:\n",
    "        continue\n",
    "\n",
    "print(list)\n",
    "print(\"The given string is\",str)\n",
    "print(\"Total numbe of vowels are\",a+e+i+o+u)\n",
    "print(\"a =\",a,\",\",\"e =\",e,\",\",\"i =\",i,\",\",\"o =\",o,\",\",\"u =\",u)\n",
    "        "
   ]
  },
  {
   "cell_type": "markdown",
   "metadata": {},
   "source": [
    "29) Apply all built in functions on Strings in your program. Note: There are 40 string functions. Use Tutorial for the help. Note: Each program should have 5 string built in functions(so write 8 programs to cover all string functions)"
   ]
  },
  {
   "cell_type": "code",
   "execution_count": 246,
   "metadata": {},
   "outputs": [
    {
     "name": "stdout",
     "output_type": "stream",
     "text": [
      "str.capitalize() :  This is string example....wow!!!\n",
      "str.center(40, 'a') :  aaaathis is string example....wow!!!aaaa\n",
      "str.count(sub, 4, 40) :  2\n",
      "str.count(sub) :  1\n",
      "Encoded String:  b'dGhpcyBpcyBzdHJpbmcgZXhhbXBsZS4uLi53b3chISE='\n",
      "The decoded string is: this is string example....wow!!!\n"
     ]
    }
   ],
   "source": [
    "#29) program 1\n",
    "str = \"this is string example....wow!!!\"\n",
    "\n",
    "#capitalize\n",
    "print (\"str.capitalize() : \", str.capitalize())\n",
    "\n",
    "#center\n",
    "print (\"str.center(40, 'a') : \", str.center(40, 'a'))\n",
    "\n",
    "#count\n",
    "sub = \"i\";\n",
    "print (\"str.count(sub, 4, 40) : \", str.count(sub, 4, 40))\n",
    "sub = \"wow\";\n",
    "print (\"str.count(sub) : \", str.count(sub))\n",
    "\n",
    "#encode\n",
    "import base64\n",
    "\n",
    "Str = \"this is string example....wow!!!\"\n",
    "encoded = base64.b64encode(Str.encode('utf-8',errors = 'strict'))\n",
    "print (\"Encoded String: \" , encoded)\n",
    "\n",
    "#decode\n",
    "import base64\n",
    "\n",
    "Str = \"this is string example....wow!!!\";\n",
    "Str = base64.b64encode(Str.encode('utf-8',errors = 'strict'))\n",
    "\n",
    "data = base64.b64decode(encoded)\n",
    "data = data.decode(alg,errors = 'strict')\n",
    "print(\"The decoded string is:\",data)"
   ]
  },
  {
   "cell_type": "code",
   "execution_count": 258,
   "metadata": {},
   "outputs": [
    {
     "name": "stdout",
     "output_type": "stream",
     "text": [
      "True\n",
      "True\n",
      "True\n",
      "False\n",
      "Original string:  this is\tstring example....wow!!!\n",
      "Default exapanded tab:  this is string example....wow!!!\n",
      "Double exapanded tab:  this is         string example....wow!!!\n",
      "15\n",
      "15\n",
      "-1\n",
      "15\n",
      "15\n",
      "True\n",
      "False\n"
     ]
    }
   ],
   "source": [
    "#29) program 2\n",
    "\n",
    "#endswith\n",
    "str = \"this is string example....wow!!!\";\n",
    "\n",
    "suffix = \"wow!!!\";\n",
    "print (str.endswith(suffix))\n",
    "print (str.endswith(suffix,20))\n",
    "\n",
    "suffix = \"is\";\n",
    "print (str.endswith(suffix, 2, 4))\n",
    "print (str.endswith(suffix, 2, 6))\n",
    "\n",
    "#expandtabs()\n",
    "str = \"this is\\tstring example....wow!!!\";\n",
    "\n",
    "print (\"Original string: \", str)\n",
    "print (\"Default exapanded tab: \",  str.expandtabs())\n",
    "print (\"Double exapanded tab: \",  str.expandtabs(16))\n",
    "\n",
    "#find()\n",
    "str1 = \"this is string example....wow!!!\";\n",
    "str2 = \"exam\";\n",
    "\n",
    "print (str1.find(str2))\n",
    "print (str1.find(str2, 10))\n",
    "print (str1.find(str2, 40))\n",
    "\n",
    "#index() \n",
    "str1 = \"this is string example....wow!!!\";\n",
    "str2 = \"exam\";\n",
    "\n",
    "print (str1.index(str2))\n",
    "print (str1.index(str2, 10))\n",
    "\n",
    "#isalnum()\n",
    "str = \"this2009\";  # No space in this string\n",
    "print (str.isalnum())\n",
    "\n",
    "str = \"this is string example....wow!!!\";\n",
    "print (str.isalnum())"
   ]
  },
  {
   "cell_type": "code",
   "execution_count": 268,
   "metadata": {},
   "outputs": [
    {
     "name": "stdout",
     "output_type": "stream",
     "text": [
      "True\n",
      "False\n",
      "True\n",
      "False\n",
      "False\n",
      "True\n",
      "False\n",
      "True\n",
      "True\n",
      "False\n"
     ]
    }
   ],
   "source": [
    "#29) program 3\n",
    "\n",
    "#isalpha()\n",
    "str = \"this\";  # No space & digit in this string\n",
    "print (str.isalpha())\n",
    "\n",
    "str = \"this is string example....wow!!!\";\n",
    "print (str.isalpha())\n",
    "\n",
    "#isdigit()\n",
    "str = \"123456\";  # Only digit in this string\n",
    "print (str.isdigit())\n",
    "\n",
    "str = \"this is string example....wow!!!\";\n",
    "print (str.isdigit())\n",
    "\n",
    "#islower()\n",
    "str = \"THIS is string example....wow!!!\"\n",
    "print (str.islower())\n",
    "\n",
    "str = \"this is string example....wow!!!\"\n",
    "print (str.islower())\n",
    "\n",
    "#isnumeric()\n",
    "\n",
    "str = u\"this2009\";  \n",
    "print (str.isnumeric())\n",
    "\n",
    "str = u\"23443434\";\n",
    "print (str.isnumeric())\n",
    "\n",
    "#isspace() \n",
    "str = \"       \"; \n",
    "print (str.isspace())\n",
    "\n",
    "str = \"This is string example....wow!!!\";\n",
    "print (str.isspace())"
   ]
  },
  {
   "cell_type": "code",
   "execution_count": null,
   "metadata": {},
   "outputs": [],
   "source": [
    "#29) program 4"
   ]
  },
  {
   "cell_type": "code",
   "execution_count": 276,
   "metadata": {},
   "outputs": [
    {
     "name": "stdout",
     "output_type": "stream",
     "text": [
      "True\n",
      "False\n",
      "True\n",
      "False\n",
      "a-b-c\n",
      "Length of the string:  32\n",
      "this is string example....wow!!!000000000000000000\n"
     ]
    }
   ],
   "source": [
    "#istitle() \n",
    "str = \"This Is String Example...Wow!!!\";\n",
    "print (str.istitle())\n",
    "\n",
    "str = \"This is string example....wow!!!\";\n",
    "print (str.istitle())\n",
    "\n",
    "#isupper()\n",
    "str = \"THIS IS STRING EXAMPLE....WOW!!!\"; \n",
    "print (str.isupper())\n",
    "\n",
    "str = \"THIS is string example....wow!!!\";\n",
    "print (str.isupper())\n",
    "\n",
    "#join() \n",
    "s = \"-\";\n",
    "seq = (\"a\", \"b\", \"c\"); # This is sequence of strings.\n",
    "print (s.join( seq ))\n",
    "\n",
    "#len() \n",
    "str = \"this is string example....wow!!!\";\n",
    "print (\"Length of the string: \", len(str))\n",
    "\n",
    "#ljust()\n",
    "str = \"this is string example....wow!!!\";\n",
    "print (str.ljust(50, '0'))"
   ]
  },
  {
   "cell_type": "code",
   "execution_count": 293,
   "metadata": {},
   "outputs": [
    {
     "name": "stdout",
     "output_type": "stream",
     "text": [
      "this is string example....wow!!!\n",
      "this is string example....wow!!!     \n",
      "this is string example....wow!!!8888888\n",
      "Max character: y\n",
      "Max character: x\n",
      "Min character: !\n",
      "Min character: !\n"
     ]
    }
   ],
   "source": [
    "#29) program 5\n",
    "#lower()\n",
    "str = \"THIS IS STRING EXAMPLE....WOW!!!\";\n",
    "print (str.lower())\n",
    "\n",
    "#lstrip()\n",
    "str = \"     this is string example....wow!!!     \";\n",
    "print (str.lstrip())\n",
    "str = \"88888888this is string example....wow!!!8888888\";\n",
    "print (str.lstrip('8'))\n",
    "\n",
    "#max()\n",
    "str = \"this is really a string example....wow!!!\";\n",
    "print (\"Max character: \" + max(str))\n",
    "\n",
    "str = \"this is a string example....wow!!!\";\n",
    "print (\"Max character: \" + max(str))\n",
    "\n",
    "#min()\n",
    "str = \"this-is-real-string-example....wow!!!\";\n",
    "print (\"Min character: \" + min(str))\n",
    "\n",
    "str = \"this-is-a-string-example....wow!!!\";\n",
    "print (\"Min character: \" + min(str))"
   ]
  },
  {
   "cell_type": "code",
   "execution_count": 300,
   "metadata": {},
   "outputs": [
    {
     "name": "stdout",
     "output_type": "stream",
     "text": [
      "thwas was string example....wow!!! thwas was really string\n",
      "thwas was string example....wow!!! thwas is really string\n",
      "5\n",
      "5\n",
      "-1\n",
      "2\n",
      "2\n",
      "-1\n",
      "5\n",
      "2\n",
      "000000000000000000this is string example....wow!!!\n",
      "     this is string example....wow!!!\n",
      "88888888this is string example....wow!!!\n"
     ]
    }
   ],
   "source": [
    "#29) program 6\n",
    "#replace()\n",
    "\n",
    "str = \"this is string example....wow!!! this is really string\"\n",
    "print (str.replace(\"is\", \"was\"))\n",
    "print (str.replace(\"is\", \"was\", 3))\n",
    "\n",
    "#rfind()\n",
    "str1 = \"this is really a string example....wow!!!\";\n",
    "str2 = \"is\";\n",
    "\n",
    "print (str1.rfind(str2))\n",
    "print (str1.rfind(str2, 0, 10))\n",
    "print (str1.rfind(str2, 10, 0))\n",
    "\n",
    "print (str1.find(str2))\n",
    "print (str1.find(str2, 0, 10))\n",
    "print (str1.find(str2, 10, 0))\n",
    "\n",
    "#rindex()\n",
    "str1 = \"this is string example....wow!!!\";\n",
    "str2 = \"is\";\n",
    "\n",
    "print (str1.rindex(str2))\n",
    "print (str1.index(str2))\n",
    "\n",
    "#rjust()\n",
    "\n",
    "str = \"this is string example....wow!!!\";\n",
    "print (str.rjust(50, '0'))\n",
    "\n",
    "#rstrip()\n",
    "\n",
    "str = \"     this is string example....wow!!!     \";\n",
    "print (str.rstrip())\n",
    "str = \"88888888this is string example....wow!!!8888888\";\n",
    "print (str.rstrip('8'))"
   ]
  },
  {
   "cell_type": "code",
   "execution_count": 305,
   "metadata": {},
   "outputs": [
    {
     "name": "stdout",
     "output_type": "stream",
     "text": [
      "['Line1-abcdef', 'Line2-abc', 'Line4-abcd']\n",
      "['Line1-abcdef', '\\nLine2-abc \\nLine4-abcd']\n",
      "['Line1-a b c d e f', 'Line2- a b c', '', 'Line4- a b c d']\n",
      "['Line1-a b c d e f', 'Line2- a b c', '', 'Line4- a b c d']\n",
      "['Line1-a b c d e f\\n', 'Line2- a b c\\n', '\\n', 'Line4- a b c d']\n",
      "['Line1-a b c d e f\\n', 'Line2- a b c\\n', '\\n', 'Line4- a b c d']\n",
      "['Line1-a b c d e f\\n', 'Line2- a b c\\n', '\\n', 'Line4- a b c d']\n",
      "True\n",
      "True\n",
      "False\n",
      "this is string example....wow!!!\n",
      "THIS IS STRING EXAMPLE....WOW!!!\n",
      "this is string example....wow!!!\n"
     ]
    }
   ],
   "source": [
    "#29) program 7\n",
    "\n",
    "#split() \n",
    "str = \"Line1-abcdef \\nLine2-abc \\nLine4-abcd\";\n",
    "print (str.split( ))\n",
    "print (str.split(' ', 1 ))\n",
    "\n",
    "#splitlines()\n",
    "str = \"Line1-a b c d e f\\nLine2- a b c\\n\\nLine4- a b c d\";\n",
    "print (str.splitlines( ))\n",
    "print (str.splitlines( 0 ))\n",
    "print (str.splitlines( 3 ))\n",
    "print (str.splitlines( 4 ))\n",
    "print (str.splitlines( 5 ))\n",
    "\n",
    "#startswith()\n",
    "str = \"this is string example....wow!!!\";\n",
    "print (str.startswith( 'this' ))\n",
    "print (str.startswith( 'is', 2, 4 ))\n",
    "print (str.startswith( 'this', 2, 4 ))\n",
    "\n",
    "#strip()\n",
    "str = \"0000000this is string example....wow!!!0000000\";\n",
    "print (str.strip( '0' ))\n",
    "\n",
    "#swapcase()\n",
    "str = \"this is string example....wow!!!\";\n",
    "print (str.swapcase())\n",
    "\n",
    "str = \"THIS IS STRING EXAMPLE....WOW!!!\";\n",
    "print (str.swapcase())"
   ]
  },
  {
   "cell_type": "code",
   "execution_count": 314,
   "metadata": {},
   "outputs": [
    {
     "name": "stdout",
     "output_type": "stream",
     "text": [
      "This Is String Example....Wow!!!\n",
      "str.capitalize() :  THIS IS STRING EXAMPLE....WOW!!!\n",
      "00000000this is string example....wow!!!\n",
      "000000000000000000this is string example....wow!!!\n",
      "False\n",
      "True\n"
     ]
    }
   ],
   "source": [
    "#29) program 8\n",
    "\n",
    "#title()\n",
    "str = \"this is string example....wow!!!\";\n",
    "print (str.title())\n",
    "\n",
    "#upper() \n",
    "str = \"this is string example....wow!!!\";\n",
    "print (\"str.capitalize() : \", str.upper())\n",
    "\n",
    "#zfill() \n",
    "str = \"this is string example....wow!!!\";\n",
    "print (str.zfill(40))\n",
    "print (str.zfill(50))\n",
    "\n",
    "#isdecimal()\n",
    "str = u\"this2009\";  \n",
    "print (str.isdecimal())\n",
    "\n",
    "str = u\"23443434\";\n",
    "print (str.isdecimal())"
   ]
  },
  {
   "cell_type": "markdown",
   "metadata": {},
   "source": [
    "30) Write a program to Sort given N numbers (Use only loop structures and Conditions to sort the elements. Use Bubble sort / Selection sort technique to sort the elements of List) Note: Don't use built in functions to sort."
   ]
  },
  {
   "cell_type": "code",
   "execution_count": 318,
   "metadata": {},
   "outputs": [
    {
     "name": "stdout",
     "output_type": "stream",
     "text": [
      "Sorted array is:\n",
      "11\n",
      "12\n",
      "22\n",
      "25\n",
      "34\n",
      "64\n",
      "90\n"
     ]
    }
   ],
   "source": [
    "arr = [64, 34, 25, 12, 22, 11, 90]\n",
    "    \n",
    "n = len(arr)\n",
    "for i in range(n):\n",
    "    for j in range(0, n-i-1):\n",
    "        if arr[j] > arr[j+1] :\n",
    "            arr[j], arr[j+1] = arr[j+1], arr[j]\n",
    "\n",
    "print (\"Sorted array is:\")\n",
    "for i in range(len(arr)):\n",
    "    print (\"%d\" %arr[i]), "
   ]
  },
  {
   "cell_type": "markdown",
   "metadata": {},
   "source": [
    "31) Write a program to search an element in the list. i.e. Perform the binary search on the sorted list having integers as elements. If the search is successful print \"Success\" else print \"un successful search\"."
   ]
  },
  {
   "cell_type": "code",
   "execution_count": 1,
   "metadata": {},
   "outputs": [
    {
     "name": "stdout",
     "output_type": "stream",
     "text": [
      "success\n"
     ]
    }
   ],
   "source": [
    "# Returns index of x in arr if present, else -1 \n",
    "def binarySearch (arr, l, r, x): \n",
    "  \n",
    "    # Check base case \n",
    "    if r >= l: \n",
    "  \n",
    "        mid = l + (r - l) // 2\n",
    "  \n",
    "        # If element is present at the middle itself \n",
    "        if arr[mid] == x: \n",
    "            return mid \n",
    "          \n",
    "        # If element is smaller than mid, then it  \n",
    "        # can only be present in left subarray \n",
    "        elif arr[mid] > x: \n",
    "            return binarySearch(arr, l, mid-1, x) \n",
    "  \n",
    "        # Else the element can only be present  \n",
    "        # in right subarray \n",
    "        else: \n",
    "            return binarySearch(arr, mid + 1, r, x) \n",
    "  \n",
    "    else: \n",
    "        # Element is not present in the array \n",
    "        return -1\n",
    "\n",
    "arr = [ 2, 3, 4, 10, 40 ] \n",
    "x = 10\n",
    "  \n",
    "# Function call \n",
    "result = binarySearch(arr, 0, len(arr)-1, x) \n",
    "  \n",
    "if result != -1: \n",
    "    print (\"success\") \n",
    "else: \n",
    "    print (\"unsuccesful search\") \n"
   ]
  },
  {
   "cell_type": "markdown",
   "metadata": {},
   "source": [
    "32) Write a program to perform following operations on List. Create three lists as List1, List2 and List3 having 5 city names each list.\n",
    "a. Find the length city of each list element and print city and length\n",
    "b. Find the maximum and minimum string length element of each list\n",
    "c. Compare each list and determine which city is biggest & smallest with length.\n",
    "d. Delete first and last element of each list and print list contents.\n"
   ]
  },
  {
   "cell_type": "code",
   "execution_count": 27,
   "metadata": {},
   "outputs": [
    {
     "name": "stdout",
     "output_type": "stream",
     "text": [
      "List of cities is: ['mumbai', 'Pune', 'Nagpur', 'Kolhapur', 'aurangabad']\n",
      "Length of list 5\n",
      "mumbai : 6\n",
      "Pune : 4\n",
      "Nagpur : 6\n",
      "Kolhapur : 8\n",
      "aurangabad : 10\n",
      "Max string length element is aurangabad\n",
      "Min string length element is Pune\n",
      "List of cities is: ['rajasthan', 'udaipur', 'jasalmer', 'wai', 'okha']\n",
      "Length of list 5\n",
      "rajasthan : 9\n",
      "udaipur : 7\n",
      "jasalmer : 8\n",
      "wai : 3\n",
      "okha : 4\n",
      "Max string length element is rajasthan\n",
      "Min string length element is wai\n",
      "List of cities is: ['bhopal', 'indore', 'bhusawal', 'kota', 'jaipur']\n",
      "Length of list 5\n",
      "bhopal : 6\n",
      "indore : 6\n",
      "bhusawal : 8\n",
      "kota : 4\n",
      "jaipur : 6\n",
      "Max string length element is bhusawal\n",
      "Min string length element is kota\n",
      "City of list 1 aurangabad is biggest with length: 10\n",
      "City of list 1 wai is smallest with length: 3\n",
      "list1 after deleting first and last element: ['Pune', 'Nagpur', 'Kolhapur']\n",
      "list2 after deleting first and last element: ['udaipur', 'jasalmer', 'wai']\n",
      "list3 after deleting first and last element: ['indore', 'bhusawal', 'kota']\n"
     ]
    }
   ],
   "source": [
    "#a. Find the length city of each list element and print city and length \n",
    "#b. Find the maximum and minimum string length element of each list \n",
    "\n",
    "def length(list):\n",
    "    print(\"List of cities is:\", list)\n",
    "    print(\"Length of list\", len(list))\n",
    "    max=list[0]\n",
    "    min=list[0]\n",
    "    for i in range(0,len(list)):\n",
    "        print(list[i],\":\",len(list[i]))\n",
    "        if len(list[i]) > len(max):\n",
    "            max=list[i]\n",
    "        if len(list[i]) < len(min):\n",
    "            min=list[i]\n",
    "    print(\"Max string length element is\",max)\n",
    "    print(\"Min string length element is\",min)\n",
    "    return(max,min)\n",
    "\n",
    "list1 = [\"mumbai\",\"Pune\",\"Nagpur\",\"Kolhapur\",\"aurangabad\"]\n",
    "list2 = [\"rajasthan\",\"udaipur\", \"jasalmer\",\"wai\",\"okha\"]\n",
    "list3 = [\"bhopal\",\"indore\",\"bhusawal\",\"kota\",\"jaipur\"]\n",
    "\n",
    "(max1,min1) = length(list1)\n",
    "(max2,min2) = length(list2)\n",
    "(max3,min3) = length(list3)\n",
    "\n",
    "#c. Compare each list and determine which city is biggest & smallest with length. \n",
    "\n",
    "if len(max1) > len(max2):\n",
    "    if len(max1) > len(max3):\n",
    "        print(\"City of list 1\",max1,\"is biggest with length:\",len(max1))\n",
    "    else:\n",
    "        print(\"City of list 3\",max3,\"is biggest with length:\",len(max3))\n",
    "else:\n",
    "    if len(max2) > len(max3):\n",
    "        print(\"City of list 1\",max2,\"is biggest with length:\",len(max2))\n",
    "    else:\n",
    "        print(\"City of list 3\",max3,\"is biggest with length:\",len(max3))\n",
    "    \n",
    "if len(min1) < len(min2):\n",
    "    if len(max1) > len(min3):\n",
    "        print(\"City of list 1\",min1,\"is smallest with length:\",len(min1))\n",
    "    else:\n",
    "        print(\"City of list 3\",min3,\"is smallest with length:\",len(min3))\n",
    "else:\n",
    "    if len(min2) < len(min3):\n",
    "        print(\"City of list 1\",min2,\"is smallest with length:\",len(min2))\n",
    "    else:\n",
    "        print(\"City of list 3\",min3,\"is smallest with length:\",len(min3))\n",
    "\n",
    "#d. Delete first and last element of each list and print list contents.\n",
    "del(list1[0])\n",
    "list1.pop()\n",
    "print(\"list1 after deleting first and last element:\",list1)\n",
    "\n",
    "del(list2[0])\n",
    "list2.pop()\n",
    "print(\"list2 after deleting first and last element:\",list2)\n",
    "\n",
    "del(list3[0])\n",
    "list3.pop()\n",
    "print(\"list3 after deleting first and last element:\",list3)"
   ]
  },
  {
   "cell_type": "markdown",
   "metadata": {},
   "source": [
    "33)Create a list with 7 elements and perform following operations. Let the list be initialized with List1 any 5 city names;\n",
    "a) Append a new city name to the List\n",
    "b) Insert a city name at 4th index position\n",
    "c) Sort the list and print all elements\n",
    "d) Sort the elements of the list in descending order.\n",
    "e) delete last three elements using pop operation\n"
   ]
  },
  {
   "cell_type": "code",
   "execution_count": 47,
   "metadata": {},
   "outputs": [
    {
     "name": "stdout",
     "output_type": "stream",
     "text": [
      "['one', 'two', 'mumbai', 'Pune', 'Nagpur', 'Kolhapur', 'aurangabad']\n",
      "['one', 'two', 'mumbai', 'Pune', 'Nagpur', 'Kolhapur', 'aurangabad', 'kota']\n",
      "['one', 'two', 'mumbai', 'Pune', 'jaipur', 'Nagpur', 'Kolhapur', 'aurangabad', 'kota']\n",
      "['Kolhapur', 'Nagpur', 'Pune', 'aurangabad', 'jaipur', 'kota', 'mumbai', 'one', 'two']\n",
      "['two', 'one', 'mumbai', 'kota', 'jaipur', 'aurangabad', 'Pune', 'Nagpur', 'Kolhapur']\n",
      "['two', 'one', 'mumbai', 'kota', 'jaipur', 'aurangabad']\n"
     ]
    }
   ],
   "source": [
    "list = [\"one\",\"two\"]\n",
    "list1 = [\"mumbai\",\"Pune\",\"Nagpur\",\"Kolhapur\",\"aurangabad\"]\n",
    "list.extend(list1)\n",
    "print(list)\n",
    "\n",
    "#a) Append a new city name to the List\n",
    "list.append(\"kota\")\n",
    "print(list)\n",
    "\n",
    "#b) Insert a city name at 4th index position\n",
    "list.insert(4,\"jaipur\")\n",
    "print(list)\n",
    "\n",
    "#c) Sort the list and print all elements\n",
    "list.sort()\n",
    "print(list)\n",
    "\n",
    "#d) Sort the elements of the list in descending order.\n",
    "list.sort(reverse=True)\n",
    "print(list)\n",
    "\n",
    "#e) delete last three elements using pop operation\n",
    "list.pop()\n",
    "list.pop()\n",
    "list.pop()\n",
    "print(list)"
   ]
  },
  {
   "cell_type": "markdown",
   "metadata": {},
   "source": [
    "34) Create 3 Lists (list1, list2, list3) with integer and perform following operations\n",
    "a) Create Maxlist by taking 2 maximum elements from each list.\n",
    "b) Find average value from all the elements of Maxlist.\n",
    "c) Create a MinlIst by taking 2 minimum elements from each list \n",
    "d) Find the average value from all the elements of Minlist\n"
   ]
  },
  {
   "cell_type": "code",
   "execution_count": 75,
   "metadata": {},
   "outputs": [
    {
     "name": "stdout",
     "output_type": "stream",
     "text": [
      "maxlist: [30, 20, 200, 100, 50, 40]\n",
      "average of maxlist 73.33333333333333\n",
      "minlist: [10, 20, 30, 100, 10, 40]\n",
      "average of minlist 35.0\n"
     ]
    }
   ],
   "source": [
    "\n",
    "\n",
    "#a) Create Maxlist by taking 2 maximum elements from each list.\n",
    "\n",
    "def maximum(list):\n",
    "    max=0\n",
    "    for i in range(0,len(list)):\n",
    "        if list[i] > max:\n",
    "            max = list[i]\n",
    "    return(max)\n",
    "def oper(maxlist,list):\n",
    "    for i in (1,2):\n",
    "        max = maximum(list)\n",
    "        maxlist.append(max)\n",
    "        list.remove(max)\n",
    "    return(maxlist,list)\n",
    "\n",
    "list1 = [10,20,30]\n",
    "list2 = [100,30,200]\n",
    "list3 = [40,50,10]\n",
    "maxlist=[]\n",
    "maxlist,list1 = oper(maxlist,list1)\n",
    "maxlist,list2 = oper(maxlist,list2)\n",
    "maxlist,list3= oper(maxlist,list3)\n",
    "print(\"maxlist:\",maxlist)\n",
    "\n",
    "\n",
    "#b) Find average value from all the elements of Maxlist.\n",
    "print(\"average of maxlist\",sum(maxlist)/len(maxlist))\n",
    "\n",
    "#c) Create a MinlIst by taking 2 minimum elements from each list \n",
    "def minimum(list):\n",
    "    min=list[0]\n",
    "    for i in range(0,len(list)):\n",
    "        if list[i] < min:\n",
    "            min = list[i]\n",
    "    return(min)\n",
    "def oper(minlist,list):\n",
    "    for i in (1,2):\n",
    "        min = minimum(list)\n",
    "        minlist.append(min)\n",
    "        list.remove(min)\n",
    "    return(minlist,list)\n",
    "\n",
    "list1 = [10,20,30]\n",
    "list2 = [100,30,200]\n",
    "list3 = [40,50,10]\n",
    "minlist=[]\n",
    "minlist,list1 = oper(minlist,list1)\n",
    "minlist,list2 = oper(minlist,list2)\n",
    "minlist,list3= oper(minlist,list3)\n",
    "print(\"minlist:\",minlist)\n",
    "\n",
    "#d) Find the average value from all the elements of Minlist\n",
    "print(\"average of minlist\",sum(minlist)/len(minlist))"
   ]
  },
  {
   "cell_type": "markdown",
   "metadata": {},
   "source": [
    "35) Create Tuple as specified below;\n",
    "a) Create a Tuple tup1 with days in a week & print the tuple elements\n",
    "b) Create a Tuple tup2  with months in a year and concatenate it with tup1\n",
    "c) Create 3 tuples( tup1,tup2,tup3) with numbers and determine which is greater.\n",
    "d) Try to delete an individual element in tup1 and try deleting complete Tuple -tup1 notice the error type you get.\n",
    "e) Insert new element in to tuple by typecasting it to List\n"
   ]
  },
  {
   "cell_type": "code",
   "execution_count": 115,
   "metadata": {},
   "outputs": [
    {
     "name": "stdout",
     "output_type": "stream",
     "text": [
      "monday\n",
      "tuesday\n",
      "wednesday\n",
      "thurday\n",
      "friday\n",
      "saturday\n",
      "sunday\n",
      "('monday', 'tuesday', 'wednesday', 'thurday', 'friday', 'saturday', 'sunday', 'january', 'february', 'march', 'april', 'may', 'june', 'july', 'august', 'september', 'october', 'november', 'december')\n",
      "greatest of 3 tuples is: (6, 3, 6)\n"
     ]
    },
    {
     "ename": "TypeError",
     "evalue": "'list' object is not callable",
     "output_type": "error",
     "traceback": [
      "\u001b[1;31m---------------------------------------------------------------------------\u001b[0m",
      "\u001b[1;31mTypeError\u001b[0m                                 Traceback (most recent call last)",
      "\u001b[1;32m<ipython-input-115-dc711c9c3fc0>\u001b[0m in \u001b[0;36m<module>\u001b[1;34m\u001b[0m\n\u001b[0;32m     24\u001b[0m \u001b[1;33m\u001b[0m\u001b[0m\n\u001b[0;32m     25\u001b[0m \u001b[1;31m#e) Insert new element in to tuple by typecasting it to List\u001b[0m\u001b[1;33m\u001b[0m\u001b[1;33m\u001b[0m\u001b[1;33m\u001b[0m\u001b[0m\n\u001b[1;32m---> 26\u001b[1;33m \u001b[0mnewlist\u001b[0m \u001b[1;33m=\u001b[0m \u001b[0mlist\u001b[0m\u001b[1;33m(\u001b[0m\u001b[0mtup2\u001b[0m\u001b[1;33m)\u001b[0m\u001b[1;33m\u001b[0m\u001b[1;33m\u001b[0m\u001b[0m\n\u001b[0m\u001b[0;32m     27\u001b[0m \u001b[0mnewlist\u001b[0m\u001b[1;33m.\u001b[0m\u001b[0mappend\u001b[0m\u001b[1;33m(\u001b[0m\u001b[1;34m'10'\u001b[0m\u001b[1;33m)\u001b[0m\u001b[1;33m\u001b[0m\u001b[1;33m\u001b[0m\u001b[0m\n",
      "\u001b[1;31mTypeError\u001b[0m: 'list' object is not callable"
     ]
    }
   ],
   "source": [
    "#a) Create a Tuple tup1 with days in a week & print the tuple elements\n",
    "tup1 = (\"monday\",\"tuesday\",\"wednesday\",\"thurday\",\"friday\",\"saturday\",\"sunday\")\n",
    "for i in range(0,len(tup1)):\n",
    "    print (tup1[i])\n",
    "    \n",
    "#b) Create a Tuple tup2  with months in a year and concatenate it with tup1\n",
    "tup2 = (\"january\",\"february\",\"march\",\"april\",\"may\",\"june\",\"july\",\"august\",\"september\",\"october\",\"november\",\"december\")\n",
    "\n",
    "tup3 = tup1+tup2\n",
    "print(tup3)\n",
    "\n",
    "#c) Create 3 tuples( tup1,tup2,tup3) with numbers and determine which is greater.\n",
    "tup1 = (1,3,4)\n",
    "tup2 = (5,3,1)\n",
    "tup3 = (6,3,6)\n",
    "\n",
    "print(\"greatest of 3 tuples is:\",max(tup1,tup2,tup3))\n",
    "\n",
    "#d) Try to delete an individual element in tup1 and try deleting complete Tuple -tup1 notice the error type you get.\n",
    "#del(tup1[0])\n",
    "#TypeError: 'tuple' object doesn't support item deletion\n",
    "del(tup1)\n",
    "#tup1 got deleted\n",
    "\n",
    "#e) Insert new element in to tuple by typecasting it to List\n",
    "newlist = list(tup2)\n",
    "newlist.append('10')"
   ]
  },
  {
   "cell_type": "markdown",
   "metadata": {},
   "source": [
    "36) Create two tuples tup1 & tup2 and apply all built in functions on tuples. ( Refer Tutorial for the Built in functions list)"
   ]
  },
  {
   "cell_type": "code",
   "execution_count": 122,
   "metadata": {},
   "outputs": [
    {
     "name": "stdout",
     "output_type": "stream",
     "text": [
      "count of 1 in tup1 is: 1\n",
      "index of 4 in tup1 is: 2\n",
      "length of tup1 is: 3\n"
     ]
    }
   ],
   "source": [
    "tup1 = (1,3,4)\n",
    "tup2 = (5,3,1)\n",
    "\n",
    "#count\n",
    "print(\"count of 1 in tup1 is:\",tup1.count(1))\n",
    "\n",
    "#index\n",
    "print(\"index of 4 in tup1 is:\",tup1.index(4))\n",
    "\n",
    "#len\n",
    "print(\"length of tup1 is:\",len(tup1))"
   ]
  },
  {
   "cell_type": "markdown",
   "metadata": {},
   "source": [
    "37) Create 3 dictionaries (dict1, dict2, dict3) with 3 elements each. Perform following operations\n",
    "a) Compare dictionaries to determine the biggest.\n",
    "b) Add new elements in to the dictionaries dict1, dict2\n",
    "c) print the length of dict1, dict2, dict3.\n",
    "d) Convert dict1, dict2, and dict3 dictionaries as string and concatenate all strings together."
   ]
  },
  {
   "cell_type": "code",
   "execution_count": 144,
   "metadata": {},
   "outputs": [
    {
     "name": "stdout",
     "output_type": "stream",
     "text": [
      "dict1: {'a': 1, 'b': 2, 'c': 3, 'd': 4}\n",
      "dict2: {'a': 4, 'b': 5, 'c': 6, 'd': 7}\n",
      "length of dict1: 4\n",
      "length of dict2: 4\n",
      "length of dict3: 3\n",
      "concatenated strings {'a': 1, 'b': 2, 'c': 3, 'd': 4}{'a': 4, 'b': 5, 'c': 6, 'd': 7}{'a': 7, 'b': 8, 'c': 9}\n"
     ]
    }
   ],
   "source": [
    "dict1 = {'a':1,'b':2,'c':3}\n",
    "dict2 = {'a':4,'b':5,'c':6}\n",
    "dict3 = {'a':7,'b':8,'c':9}\n",
    "\n",
    "#a) Compare dictionaries to determine the biggest.\n",
    "#cmp(dict1,dict2,dict3)\n",
    "\n",
    "#b) Add new elements in to the dictionaries dict1, dict2\n",
    "dict1['d'] = 4\n",
    "dict2['d'] = 7\n",
    "print(\"dict1:\",dict1)\n",
    "print(\"dict2:\",dict2)\n",
    "#c) print the length of dict1, dict2, dict3. \n",
    "print(\"length of dict1:\",len(dict1))\n",
    "print(\"length of dict2:\",len(dict2))\n",
    "print(\"length of dict3:\",len(dict3))\n",
    "\n",
    "#d) Convert dict1, dict2, and dict3 dictionaries as string and concatenate all strings together.\n",
    "str1 = str(dict1)\n",
    "str2 = str(dict2)\n",
    "str3 = str(dict3)\n",
    "print(\"concatenated strings\", str1+str2+str3)"
   ]
  },
  {
   "cell_type": "markdown",
   "metadata": {},
   "source": [
    "38) Create 2 dictionaries as follows;\n",
    "dict1 ={'Name':'Ramakrishna','Age':25}\n",
    "dict2={'EmpId':1234,'Salary':5000}\n",
    "Perform following operations   \n",
    "a) Create single dictionary by merging dict1 and dict2\n",
    "b) Update the salary to 10%\n",
    "c) Update the age to 26\n",
    "d) Insert the new element with key \"grade\" and assign value as \"B1\"\n",
    "e) Extract and print all values and keys separately.\n",
    "f) delete the element with key 'Age' and print dictionary elements.\n"
   ]
  },
  {
   "cell_type": "code",
   "execution_count": 165,
   "metadata": {},
   "outputs": [
    {
     "name": "stdout",
     "output_type": "stream",
     "text": [
      "{'Name': 'Ramakrishna', 'Age': 25, 'EmpId': 1234, 'Salary': 5000}\n",
      "{'Name': 'Ramakrishna', 'Age': 25, 'EmpId': 1234, 'Salary': 5000}\n",
      "{'Name': 'Ramakrishna', 'Age': 25, 'EmpId': 1234, 'Salary': 500.0}\n",
      "{'Name': 'Ramakrishna', 'Age': 26, 'EmpId': 1234, 'Salary': 500.0}\n",
      "keys are: dict_keys(['Name', 'Age', 'EmpId', 'Salary', 'grade'])\n",
      "values are: dict_values(['Ramakrishna', 26, 1234, 500.0, 'B1'])\n",
      "{'Name': 'Ramakrishna', 'EmpId': 1234, 'Salary': 500.0, 'grade': 'B1'}\n"
     ]
    }
   ],
   "source": [
    "dict1 ={'Name':'Ramakrishna','Age':25}\n",
    "dict2={'EmpId':1234,'Salary':5000}\n",
    "\n",
    "#a) Create single dictionary by merging dict1 and dict2\n",
    "dict1.update(dict2)\n",
    "print(dict1)\n",
    "#or\n",
    "dict3 = {**dict1,**dict2}\n",
    "print(dict3)\n",
    "\n",
    "#b) Update the salary to 10%\n",
    "a = dict3['Salary']\n",
    "dict3['Salary'] = a *10/100\n",
    "print(dict3)\n",
    "\n",
    "#c) Update the age to 26\n",
    "dict3['Age'] =26\n",
    "print(dict3)\n",
    "\n",
    "#d) Insert the new element with key \"grade\" and assign value as \"B1\"\n",
    "dict3['grade'] = 'B1'\n",
    "\n",
    "#e) Extract and print all values and keys separately.\n",
    "print(\"keys are:\",dict3.keys())\n",
    "print(\"values are:\",dict3.values())\n",
    "\n",
    "#f) delete the element with key 'Age' and print dictionary elements.\n",
    "del(dict3['Age'])\n",
    "print(dict3)"
   ]
  },
  {
   "cell_type": "markdown",
   "metadata": {},
   "source": [
    "39)Using Time and Calendar module, Print current date and time. Print current month calendar."
   ]
  },
  {
   "cell_type": "code",
   "execution_count": 166,
   "metadata": {},
   "outputs": [
    {
     "name": "stdout",
     "output_type": "stream",
     "text": [
      "now = 2020-04-21 21:23:56.316178\n",
      "date and time = 21/04/2020 21:23:56\n"
     ]
    }
   ],
   "source": [
    "from datetime import datetime\n",
    "\n",
    "# datetime object containing current date and time\n",
    "now = datetime.now()\n",
    " \n",
    "print(\"now =\", now)\n",
    "\n",
    "# dd/mm/YY H:M:S\n",
    "dt_string = now.strftime(\"%d/%m/%Y %H:%M:%S\")\n",
    "print(\"date and time =\", dt_string)\t"
   ]
  },
  {
   "cell_type": "markdown",
   "metadata": {},
   "source": [
    "40) Using time module perform following operations.\n",
    "a) Print current time for every 5 seconds up to 1 minute time interval.\n",
    "b) Write a program to find out how much CPU time is taken for the execution of above(32.a)  program.\n"
   ]
  },
  {
   "cell_type": "code",
   "execution_count": null,
   "metadata": {},
   "outputs": [],
   "source": [
    "#a) Print current time for every 5 seconds up to 1 minute time interval. \n",
    "import time\n",
    "i=12\n",
    "while(i>=0):\n",
    "    print (\"current time:\",time.asctime(time.localtime(time.time())))\n",
    "    time.sleep(5)\n",
    "    i=i-1"
   ]
  },
  {
   "cell_type": "code",
   "execution_count": 5,
   "metadata": {},
   "outputs": [
    {
     "name": "stdout",
     "output_type": "stream",
     "text": [
      "current time: Thu Apr 23 03:20:13 2020\n",
      "current time: Thu Apr 23 03:20:18 2020\n",
      "current time: Thu Apr 23 03:20:23 2020\n",
      "current time: Thu Apr 23 03:20:28 2020\n",
      "current time: Thu Apr 23 03:20:33 2020\n",
      "current time: Thu Apr 23 03:20:38 2020\n",
      "current time: Thu Apr 23 03:20:43 2020\n",
      "current time: Thu Apr 23 03:20:48 2020\n",
      "current time: Thu Apr 23 03:20:53 2020\n",
      "current time: Thu Apr 23 03:20:58 2020\n",
      "current time: Thu Apr 23 03:21:03 2020\n",
      "current time: Thu Apr 23 03:21:08 2020\n",
      "current time: Thu Apr 23 03:21:13 2020\n",
      "List of cities is: ['mumbai', 'Pune', 'Nagpur', 'Kolhapur', 'aurangabad']\n",
      "Length of list 5\n",
      "mumbai : 6\n",
      "Pune : 4\n",
      "Nagpur : 6\n",
      "Kolhapur : 8\n",
      "aurangabad : 10\n",
      "Max string length element is aurangabad\n",
      "Min string length element is Pune\n",
      "List of cities is: ['rajasthan', 'udaipur', 'jasalmer', 'wai', 'okha']\n",
      "Length of list 5\n",
      "rajasthan : 9\n",
      "udaipur : 7\n",
      "jasalmer : 8\n",
      "wai : 3\n",
      "okha : 4\n",
      "Max string length element is rajasthan\n",
      "Min string length element is wai\n",
      "List of cities is: ['bhopal', 'indore', 'bhusawal', 'kota', 'jaipur']\n",
      "Length of list 5\n",
      "bhopal : 6\n",
      "indore : 6\n",
      "bhusawal : 8\n",
      "kota : 4\n",
      "jaipur : 6\n",
      "Max string length element is bhusawal\n",
      "Min string length element is kota\n",
      "Duration: 0:01:05.048683\n"
     ]
    }
   ],
   "source": [
    "#b) Write a program to find out how much CPU time is taken for the execution of above(32.a) program.\n",
    "\n",
    "from datetime import datetime\n",
    "\n",
    "def length(list):\n",
    "    print(\"List of cities is:\", list)\n",
    "    print(\"Length of list\", len(list))\n",
    "    max=list[0]\n",
    "    min=list[0]\n",
    "    for i in range(0,len(list)):\n",
    "        print(list[i],\":\",len(list[i]))\n",
    "        if len(list[i]) > len(max):\n",
    "            max=list[i]\n",
    "        if len(list[i]) < len(min):\n",
    "            min=list[i]\n",
    "    print(\"Max string length element is\",max)\n",
    "    print(\"Min string length element is\",min)\n",
    "    return(max,min)\n",
    "\n",
    "start_time = datetime.now()\n",
    "\n",
    "list1 = [\"mumbai\",\"Pune\",\"Nagpur\",\"Kolhapur\",\"aurangabad\"]\n",
    "list2 = [\"rajasthan\",\"udaipur\", \"jasalmer\",\"wai\",\"okha\"]\n",
    "list3 = [\"bhopal\",\"indore\",\"bhusawal\",\"kota\",\"jaipur\"]\n",
    "\n",
    "(max1,min1) = length(list1)\n",
    "(max2,min2) = length(list2)\n",
    "(max3,min3) = length(list3)\n",
    "\n",
    "end_time = datetime.now()\n",
    "print('Duration: {}'.format(end_time - start_time))\n"
   ]
  }
 ],
 "metadata": {
  "kernelspec": {
   "display_name": "Python 3",
   "language": "python",
   "name": "python3"
  },
  "language_info": {
   "codemirror_mode": {
    "name": "ipython",
    "version": 3
   },
   "file_extension": ".py",
   "mimetype": "text/x-python",
   "name": "python",
   "nbconvert_exporter": "python",
   "pygments_lexer": "ipython3",
   "version": "3.7.3"
  }
 },
 "nbformat": 4,
 "nbformat_minor": 2
}
