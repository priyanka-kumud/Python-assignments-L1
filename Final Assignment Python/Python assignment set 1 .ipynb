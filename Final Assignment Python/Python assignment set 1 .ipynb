{
 "cells": [
  {
   "cell_type": "markdown",
   "metadata": {},
   "source": [
    "1) Write a program to Add, Subtract, Multiply, and Divide 2 numbers"
   ]
  },
  {
   "cell_type": "code",
   "execution_count": 2,
   "metadata": {},
   "outputs": [
    {
     "name": "stdout",
     "output_type": "stream",
     "text": [
      "Addition of 2 numbers is 30\n",
      "Subtraction of 2 numbers is 10\n",
      "Multiplication of 2 numbers is 200\n",
      "Division of 2 numbers is 2.0\n"
     ]
    }
   ],
   "source": [
    "a = 20\n",
    "b = 10\n",
    "print(\"Addition of 2 numbers is\", a+b)\n",
    "print(\"Subtraction of 2 numbers is\", a-b)\n",
    "print(\"Multiplication of 2 numbers is\", a*b)\n",
    "print(\"Division of 2 numbers is\", a/b)"
   ]
  },
  {
   "cell_type": "markdown",
   "metadata": {},
   "source": [
    "2) Write a program to find the biggest of 3 numbers (Use If Condition)"
   ]
  },
  {
   "cell_type": "code",
   "execution_count": 6,
   "metadata": {},
   "outputs": [
    {
     "name": "stdout",
     "output_type": "stream",
     "text": [
      "10 21 41\n",
      "Largest of 3 nubers is 41\n"
     ]
    }
   ],
   "source": [
    "a,b,c=10,21,41\n",
    "print (a,b,c)\n",
    "\n",
    "if a>b:\n",
    "    if a>c:\n",
    "        print (\"Largest of 3 nubers is\",a)\n",
    "    else:\n",
    "        print (\"Largest of 3 nubers is\",c)\n",
    "else:\n",
    "    if b>c:\n",
    "        print (\"Largest of 3 nubers is\",b)\n",
    "    else:\n",
    "        print (\"Largest of 3 nubers is\",c)"
   ]
  },
  {
   "cell_type": "markdown",
   "metadata": {},
   "source": [
    "3) Write a program to find given number is odd or Even"
   ]
  },
  {
   "cell_type": "code",
   "execution_count": 9,
   "metadata": {},
   "outputs": [
    {
     "name": "stdout",
     "output_type": "stream",
     "text": [
      "Given number is odd number\n"
     ]
    }
   ],
   "source": [
    "a=7\n",
    "\n",
    "if a%2 == 0:\n",
    "    print (\"Given number is even number\")\n",
    "else:\n",
    "    print (\"Given number is odd number\")"
   ]
  },
  {
   "cell_type": "markdown",
   "metadata": {},
   "source": [
    "4) Write a program to find the number is Prime or not."
   ]
  },
  {
   "cell_type": "code",
   "execution_count": 16,
   "metadata": {},
   "outputs": [
    {
     "name": "stdout",
     "output_type": "stream",
     "text": [
      "Given number 41 is prime number\n"
     ]
    }
   ],
   "source": [
    "a = 41\n",
    "\n",
    "if a>1:\n",
    "    for i in range(2,a):\n",
    "        if a%i == 0:\n",
    "            print (\"Given number\",a,\"is not a prime number\")\n",
    "            break\n",
    "    else:\n",
    "        print(\"Given number\",a,\"is prime number\")\n",
    "else:\n",
    "    print (\"Given number\",a,\"is not a prime number\")"
   ]
  },
  {
   "cell_type": "markdown",
   "metadata": {},
   "source": [
    "5)Write a program to receive 5 command line arguments and print each argument separately.\n",
    "\n",
    "Example: >> python test.py arg1 arg2 arg3 arg4 arg5 a) From the above statement your program should receive arguments and print them each of them. b) Find the biggest of three numbers, where three numbers are passed as command line arguments."
   ]
  },
  {
   "cell_type": "code",
   "execution_count": 8,
   "metadata": {},
   "outputs": [
    {
     "name": "stdout",
     "output_type": "stream",
     "text": [
      "Total elements given as arguments are: 3\n",
      "-f\n",
      "C:\\Users\\PR20046708\\AppData\\Roaming\\jupyter\\runtime\\kernel-d3995465-5689-445d-b386-f3409a7bcc44.json\n",
      "Pleaase provide 4 arguments including file\n"
     ]
    }
   ],
   "source": [
    "# a) From the above statement your program should receive arguments and print them each of them\n",
    "\n",
    "from sys import argv\n",
    "print(\"Total elements given as arguments are:\",len(argv))\n",
    "for i in range(1,len(argv)):\n",
    "    print (argv[i])\n",
    "\n",
    "#b) Find the biggest of three numbers, where three numbers are passed as command line arguments.\n",
    "from sys import argv\n",
    "if len(argv)==4:\n",
    "    if int(argv[1])>int(argv[2]):\n",
    "        if int(argv[1])>int(argv[3]):\n",
    "            print(\"Biggest of 3 numbers is\",argv[1])\n",
    "        else:\n",
    "            print(\"Biggest of 3 numbers is\",argv[3])\n",
    "    else:\n",
    "        if int(argv[2])>int(argv[3]):\n",
    "            print(\"Biggest of 3 numbers is\",argv[2])\n",
    "        else:\n",
    "            print(\"Biggest of 3 numbers is\",argv[3])\n",
    "else:\n",
    "    print(\"Pleaase provide 4 arguments including file\")\n",
    "\n"
   ]
  },
  {
   "cell_type": "markdown",
   "metadata": {},
   "source": [
    "6) Write a program to read string and print each character separately. a) Slice the string using slice operator [:] slice the portion the strings to create a sub strings. b) Repeat the string 100 times using repeat operator * c) Read string 2 and concatenate with other string using + operator."
   ]
  },
  {
   "cell_type": "code",
   "execution_count": 10,
   "metadata": {},
   "outputs": [
    {
     "name": "stdout",
     "output_type": "stream",
     "text": [
      "Enter a string:pp\n",
      "p\n",
      "p\n",
      "First sub string is pp\n",
      "Second sub string is \n",
      "pppppppppppppppppppppppppppppppppppppppppppppppppppppppppppppppppppppppppppppppppppppppppppppppppppppppppppppppppppppppppppppppppppppppppppppppppppppppppppppppppppppppppppppppppppppppppppppppppppppppp\n",
      "Enter another string:hgh\n",
      "pphgh\n"
     ]
    }
   ],
   "source": [
    "str = input(\"Enter a string:\")\n",
    "\n",
    "for i in range(0,len(str)):\n",
    "    print(str[i])\n",
    "    \n",
    "# a) Slice the string using slice operator [:] slice the portion the strings to create a sub strings.\n",
    "str1 = str[0:2]\n",
    "print(\"First sub string is\",str1)\n",
    "str2 = str[2:len(str)]\n",
    "print(\"Second sub string is\",str2)\n",
    "\n",
    "# b) Repeat the string 100 times using repeat operator *\n",
    "print(100*str)\n",
    "\n",
    "# c) Read string 2 and concatenate with other string using + operator.\n",
    "newstr = input(\"Enter another string:\")\n",
    "print(str+newstr)"
   ]
  },
  {
   "cell_type": "markdown",
   "metadata": {},
   "source": [
    "7) Create a list with at least 10 elements having integer values in it; Print all elements Perform slicing operations Perform repetition with * operator Perform concatenation with other list."
   ]
  },
  {
   "cell_type": "code",
   "execution_count": 36,
   "metadata": {},
   "outputs": [
    {
     "name": "stdout",
     "output_type": "stream",
     "text": [
      "10\n",
      "20\n",
      "30\n",
      "40\n",
      "50\n",
      "60\n",
      "70\n",
      "80\n",
      "90\n",
      "100\n",
      "[10, 20, 30, 40]\n",
      "[50, 60, 70, 80, 90, 100]\n",
      "[10, 20, 30, 40, 50, 60, 70, 80, 90, 100, 10, 20, 30, 40, 50, 60, 70, 80, 90, 100, 10, 20, 30, 40, 50, 60, 70, 80, 90, 100, 10, 20, 30, 40, 50, 60, 70, 80, 90, 100]\n",
      "[10, 20, 30, 40, 50, 60, 70, 80, 90, 100, 1, 2, 3]\n"
     ]
    }
   ],
   "source": [
    "list = [10,20,30,40,50,60,70,80,90,100]\n",
    "\n",
    "#Print all elements\n",
    "i = 0\n",
    "while i < len(list):\n",
    "    print(list[i])\n",
    "    i+=1\n",
    "    \n",
    "#Perform slicing operations\n",
    "list1=list[:4:]\n",
    "list2=list[4::]\n",
    "\n",
    "print(list1)\n",
    "print(list2)\n",
    "\n",
    "#Perform repetition with * operator\n",
    "print(4*list)\n",
    "\n",
    "#Perform concatenation with other list.\n",
    "a=[1,2,3]\n",
    "list.extend(a)\n",
    "print(list)"
   ]
  },
  {
   "cell_type": "markdown",
   "metadata": {},
   "source": [
    "8) Repeat program 7 with Tuples (Take example from Tutorial)"
   ]
  },
  {
   "cell_type": "code",
   "execution_count": 37,
   "metadata": {},
   "outputs": [
    {
     "name": "stdout",
     "output_type": "stream",
     "text": [
      "10\n",
      "20\n",
      "30\n",
      "40\n",
      "50\n",
      "60\n",
      "70\n",
      "80\n",
      "90\n",
      "100\n",
      "(10, 20, 30, 40)\n",
      "(50, 60, 70, 80, 90, 100)\n",
      "(10, 20, 30, 40, 50, 60, 70, 80, 90, 100, 10, 20, 30, 40, 50, 60, 70, 80, 90, 100, 10, 20, 30, 40, 50, 60, 70, 80, 90, 100, 10, 20, 30, 40, 50, 60, 70, 80, 90, 100)\n",
      "(10, 20, 30, 40, 50, 60, 70, 80, 90, 100, 1, 2, 3)\n"
     ]
    }
   ],
   "source": [
    "tup = (10,20,30,40,50,60,70,80,90,100)\n",
    "\n",
    "#Print all elements\n",
    "i = 0\n",
    "while i < len(tup):\n",
    "    print(tup[i])\n",
    "    i+=1\n",
    "    \n",
    "#Perform slicing operations\n",
    "tup1=tup[:4:]\n",
    "tup2=tup[4::]\n",
    "\n",
    "print(tup1)\n",
    "print(tup2)\n",
    "\n",
    "#Perform repetition with * operator\n",
    "print(4*tup)\n",
    "\n",
    "#Perform concatenation with other list.\n",
    "a=(1,2,3)\n",
    "newtup= tup+a\n",
    "print(newtup)"
   ]
  },
  {
   "cell_type": "markdown",
   "metadata": {},
   "source": [
    "9) Write program to Add, Subtract, Multiply, Divide 2 Complex numbers."
   ]
  },
  {
   "cell_type": "code",
   "execution_count": 39,
   "metadata": {},
   "outputs": [
    {
     "name": "stdout",
     "output_type": "stream",
     "text": [
      "Addition of two numbers is (7+12j)\n",
      "Subtraction of two numbers is (3+4j)\n",
      "Multiplication of two numbers is (-22+36j)\n",
      "Division of two numbers is (2.1-0.2j)\n"
     ]
    }
   ],
   "source": [
    "a = 5+8j\n",
    "b = 2+4j\n",
    "\n",
    "print (\"Addition of two numbers is\",a+b)\n",
    "print (\"Subtraction of two numbers is\",a-b)\n",
    "print (\"Multiplication of two numbers is\",a*b)\n",
    "print (\"Division of two numbers is\",a/b)\n"
   ]
  },
  {
   "cell_type": "markdown",
   "metadata": {},
   "source": [
    "10) Using assignment operators, perform following operations Addition, Substation, Multiplication, Division, Modulus, Exponent and Floor division operations"
   ]
  },
  {
   "cell_type": "code",
   "execution_count": 75,
   "metadata": {},
   "outputs": [
    {
     "name": "stdout",
     "output_type": "stream",
     "text": [
      "The two numbers are 10 and 5\n",
      "Addition of two numbers is 15\n",
      "Subtraction of two numbers is 5\n",
      "Multiplication of two numbers is 50\n",
      "Division of two numbers is 2.0\n",
      "Modulus of two numbers is 0\n",
      "Exponential of two numbers is 100000\n",
      "Floor Division of two numbers is 2.0\n"
     ]
    }
   ],
   "source": [
    "a=10;b=5\n",
    "print (\"The two numbers are\",a,\"and\",b)\n",
    "a=10;b=5;a+=b\n",
    "print (\"Addition of two numbers is\",a)\n",
    "a=10;b=5;a-=b\n",
    "print (\"Subtraction of two numbers is\",a)\n",
    "a=10;b=5;a*=b\n",
    "print (\"Multiplication of two numbers is\",a)\n",
    "a=10;b=5;a/=b\n",
    "print (\"Division of two numbers is\",a)\n",
    "a=10;b=5;a%=b\n",
    "print (\"Modulus of two numbers is\",a)\n",
    "a=10;b=5;a**=b\n",
    "print (\"Exponential of two numbers is\",a)\n",
    "a=10.0;b=5;a/=b\n",
    "print (\"Floor Division of two numbers is\",a)"
   ]
  },
  {
   "cell_type": "markdown",
   "metadata": {},
   "source": [
    "11) Read 2 numbers to variable a and b and perform all bitwise operations on that numbers."
   ]
  },
  {
   "cell_type": "code",
   "execution_count": 77,
   "metadata": {},
   "outputs": [
    {
     "name": "stdout",
     "output_type": "stream",
     "text": [
      "The two numbers are 3 and 2\n",
      "The bitwise operation << returns multiplication of 3 and 2** 2 and is 12\n",
      "The bitwise operation >> returns division of 3 by 2** 2 and is 0\n",
      "The bitwise and of 3 and 2 returns 2\n",
      "The bitwise or of 3 and 2 returns 3\n",
      "The bitwise operation ~ returns compliment of 3 and is -4\n",
      "The bitwise bitwise exclusive or of 3 and 2 returns 1\n"
     ]
    }
   ],
   "source": [
    "a=3;b=2\n",
    "print (\"The two numbers are\",a,\"and\",b)\n",
    "res = a<<b\n",
    "print (\"The bitwise operation << returns multiplication of\",a,\"and 2**\",b,\"and is\",res)\n",
    "res = a>>b\n",
    "print (\"The bitwise operation >> returns division of\",a,\"by 2**\",b,\"and is\",res)\n",
    "res = a&b\n",
    "print (\"The bitwise and of\",a,\"and\",b,\"returns\",res)\n",
    "res = a|b\n",
    "print (\"The bitwise or of\",a,\"and\",b,\"returns\",res)\n",
    "res = ~a\n",
    "print (\"The bitwise operation ~ returns compliment of\",a,\"and is\",res)\n",
    "res = a ^ b\n",
    "print (\"The bitwise bitwise exclusive or of\",a,\"and\",b,\"returns\",res)"
   ]
  },
  {
   "cell_type": "markdown",
   "metadata": {},
   "source": [
    "12) Read 10 numbers from user and find the average of all. a) Use comparison operator to check how many numbers are less than average and print them b) Check how many numbers are more than average. c) How many are equal to average."
   ]
  },
  {
   "cell_type": "code",
   "execution_count": 34,
   "metadata": {},
   "outputs": [
    {
     "name": "stdout",
     "output_type": "stream",
     "text": [
      "Enter a numeric value:1\n",
      "Enter a numeric value:1\n",
      "Enter a numeric value:11\n",
      "Enter a numeric value:1\n",
      "Enter a numeric value:1\n",
      "Enter a numeric value:1\n",
      "Enter a numeric value:1\n",
      "Enter a numeric value:1\n",
      "Enter a numeric value:1\n",
      "Enter a numeric value:10\n",
      "[1, 1, 11, 1, 1, 1, 1, 1, 1, 10]\n",
      "29\n",
      "2.9\n",
      "2 numbers are less than average and are [11, 10]\n",
      "8 numbers are greater than average and are [1, 1, 1, 1, 1, 1, 1, 1]\n",
      "0 numbers are equal to average and are []\n"
     ]
    }
   ],
   "source": [
    "a=[]\n",
    "for i in range(0,10):\n",
    "    a.append(eval(input(\"Enter a numeric value:\")))\n",
    "print(a)\n",
    "i,sum=0,0\n",
    "\n",
    "while i<len(a):\n",
    "    sum+=a[i]\n",
    "    i+=1\n",
    "print(sum)\n",
    "avg = sum/len(a)\n",
    "print(avg)\n",
    "\n",
    "#a) Use comparison operator to check how many numbers are less than average and print them \n",
    "#b) Check how many numbers are more than average. \n",
    "#c) How many are equal to average.\n",
    "\n",
    "less,more,equal=[],[],[]\n",
    "for i in range(0,len(a)):\n",
    "    if a[i] > avg:\n",
    "        less.append(a[i])\n",
    "    elif a[i] < avg:\n",
    "        more.append(a[i])\n",
    "    else:\n",
    "        equal.append(a[i])\n",
    "print(len(less),\"numbers are less than average and are\",less)\n",
    "print(len(more),\"numbers are greater than average and are\",more)\n",
    "print(len(equal),\"numbers are equal to average and are\",equal)"
   ]
  },
  {
   "cell_type": "markdown",
   "metadata": {},
   "source": [
    "13) Write a program to find the biggest of 4 numbers. a) Read 4 numbers from user using Input statement. b) extend the above program to find the biggest of 5 numbers. (PS: Use IF and IF & Else, If and ELIf, and Nested IF)"
   ]
  },
  {
   "cell_type": "code",
   "execution_count": 40,
   "metadata": {},
   "outputs": [
    {
     "name": "stdout",
     "output_type": "stream",
     "text": [
      "enter 4 numbers:1 2 2 3\n",
      "1\n",
      "2\n",
      "2\n",
      "3\n",
      "Biggest number is 3\n"
     ]
    }
   ],
   "source": [
    "#a) Read 4 numbers from user using Input statement.\n",
    "a,b,c,d = input(\"enter 4 numbers:\").split()\n",
    "print(a)\n",
    "print(b)\n",
    "print(c)\n",
    "print(d)\n",
    "type(a)\n",
    "\n",
    "#b) extend the above program to find the biggest of 5 numbers. (PS: Use IF and IF & Else, If and ELIf, and Nested IF)\n",
    "\n",
    "if a > b:\n",
    "    if a > c:\n",
    "        if a > d:\n",
    "            print(\"Biggest number is\",a)\n",
    "        else:\n",
    "            print(\"Biggest number is\",d)\n",
    "    else:\n",
    "        if c > d:\n",
    "            print(\"Biggest number is\",c)\n",
    "        else:\n",
    "            print(\"Biggest number is\",d)\n",
    "else:\n",
    "    if b > c:\n",
    "        if b > d:\n",
    "            print(\"Biggest number is\",b)\n",
    "        else:\n",
    "            print(\"Biggest number is\",d)\n",
    "    else:\n",
    "        if c > d:\n",
    "            print(\"Biggest number is\",c)\n",
    "        else:\n",
    "            print(\"Biggest number is\",d)\n",
    "        "
   ]
  },
  {
   "cell_type": "markdown",
   "metadata": {},
   "source": [
    "Write a program to create two list A & B such that List A contains Employee Id, List B contain Employee name (minimum 10 entries in each list) & perform following operation\n",
    "     a) Print all names on to screen\n",
    "     b) Read the index from the  user and print the corresponding name from both list.\n",
    "     c) Print the names from 4th position to 9th position\n",
    "     d) Print all names from 3rd position till end of the list\n",
    "     e) Repeat list elements by specified number of times (N- times, where N is entered by user)\n",
    "     f)  Concatenate two lists and print the output.\n",
    "     g) Print element of list A and B side by side.(i.e. List-A First element, List-B First element )\n"
   ]
  },
  {
   "cell_type": "code",
   "execution_count": 56,
   "metadata": {},
   "outputs": [
    {
     "name": "stdout",
     "output_type": "stream",
     "text": [
      "Employee names are: ['a', 'b', 'c', 'd', 'e', 'f', 'g', 'h', 'i', 'j']\n",
      "enter index number between 0 to 9:4\n",
      "The employee id is 4 and employee name is e\n",
      "['d', 'e', 'f', 'g', 'h', 'i']\n",
      "['c', 'd', 'e', 'f', 'g', 'h', 'i', 'j']\n",
      "Enter the number of times list elements are to be repeated:4\n",
      "[0, 1, 2, 3, 4, 5, 6, 7, 8, 9, 0, 1, 2, 3, 4, 5, 6, 7, 8, 9, 0, 1, 2, 3, 4, 5, 6, 7, 8, 9, 0, 1, 2, 3, 4, 5, 6, 7, 8, 9]\n",
      "['a', 'b', 'c', 'd', 'e', 'f', 'g', 'h', 'i', 'j', 'a', 'b', 'c', 'd', 'e', 'f', 'g', 'h', 'i', 'j', 'a', 'b', 'c', 'd', 'e', 'f', 'g', 'h', 'i', 'j', 'a', 'b', 'c', 'd', 'e', 'f', 'g', 'h', 'i', 'j']\n",
      "[0, 1, 2, 3, 4, 5, 6, 7, 8, 9, 'a', 'b', 'c', 'd', 'e', 'f', 'g', 'h', 'i', 'j']\n",
      "0 a\n",
      "1 b\n",
      "2 c\n",
      "3 d\n",
      "4 e\n",
      "5 f\n",
      "6 g\n",
      "7 h\n",
      "8 i\n",
      "9 j\n"
     ]
    }
   ],
   "source": [
    "#List of employee id\n",
    "empid = list(range(0,10))\n",
    "\n",
    "#list of employee name\n",
    "empname = ['a','b','c','d','e','f','g','h','i','j']\n",
    "\n",
    "#a) Print all names on to screen\n",
    "print(\"Employee names are:\",empname)\n",
    "\n",
    "#b) Read the index from the  user and print the corresponding name from both list.\n",
    "index = eval(input(\"enter index number between 0 to 9:\"))\n",
    "print(\"The employee id is\",empid[index],\"and employee name is\",empname[index])\n",
    "\n",
    "#c) Print the names from 4th position to 9th position - used index strating from 3 as we are asked position 4th and not index\n",
    "print(empname[3:9:])\n",
    "\n",
    "# d) Print all names from 3rd position till end of the list\n",
    "print(empname[2:len(empname):])\n",
    "\n",
    "# e) Repeat list elements by specified number of times (N- times, where N is entered by user)\n",
    "num=eval(input(\"Enter the number of times list elements are to be repeated:\"))\n",
    "\n",
    "print(num*empid)\n",
    "print(num*empname)\n",
    "\n",
    "# f)  Concatenate two lists and print the output.\n",
    "print(empid+empname)\n",
    "\n",
    "# g) Print element of list A and B side by side.(i.e. List-A First element, List-B First element )\n",
    "for i in range(0,len(empname)):\n",
    "        print(empid[i], empname[i])"
   ]
  },
  {
   "cell_type": "markdown",
   "metadata": {},
   "source": [
    "15) Create a list of 5 names and check given name exist in the List. a) Use membership operator (IN) to check the presence of an element. b) Perform above task without using membership operator. c) Print the elements of the list in reverse direction."
   ]
  },
  {
   "cell_type": "code",
   "execution_count": 71,
   "metadata": {},
   "outputs": [
    {
     "name": "stdout",
     "output_type": "stream",
     "text": [
      "Name ddd exist in list ['aaa', 'bbb', 'ccc', 'ddd', 'eee']\n",
      "The given name exist in list and is: ddd\n",
      "['eee', 'ddd', 'ccc', 'bbb', 'aaa']\n"
     ]
    }
   ],
   "source": [
    "a=['aaa','bbb','ccc','ddd','eee']\n",
    "b='ddd'\n",
    "\n",
    "#a) Use membership operator (IN) to check the presence of an element.\n",
    "if b in a:\n",
    "    print(\"Name\",b,\"exist in list\",a)\n",
    "else:\n",
    "    print(\"Name\",b,\"does not exist in list\",a)\n",
    "\n",
    "#b) Perform above task without using membership operator\n",
    "if b == a[0]:\n",
    "    print(\"The given name exist in list and is:\",b)\n",
    "elif b == a[1]:\n",
    "    print(\"The given name exist in list and is:\",b)\n",
    "elif b == a[2]:\n",
    "    print(\"The given name exist in list and is:\",b)\n",
    "elif b == a[3]:\n",
    "    print(\"The given name exist in list and is:\",b)\n",
    "elif b == a[4]:\n",
    "    print(\"The given name exist in list and is:\",b)\n",
    "else:\n",
    "    print(\"The given name does not exist in list and is:\",b)\n",
    "    \n",
    "#c) Print the elements of the list in reverse direction.\n",
    "a.reverse()\n",
    "print(a)"
   ]
  },
  {
   "cell_type": "markdown",
   "metadata": {},
   "source": [
    "16) Write program to perform following: i) Check whether given number is prime or not. ii) Generate all the prime numbers between 1 to N where N is given number."
   ]
  },
  {
   "cell_type": "code",
   "execution_count": 77,
   "metadata": {},
   "outputs": [
    {
     "name": "stdout",
     "output_type": "stream",
     "text": [
      "Given number 21 is not a prime number\n",
      "2 is prime number\n",
      "3 is prime number\n",
      "5 is prime number\n",
      "7 is prime number\n",
      "11 is prime number\n",
      "13 is prime number\n",
      "17 is prime number\n",
      "19 is prime number\n",
      "These are the prime numbers between 1 to 21\n"
     ]
    }
   ],
   "source": [
    "#i) Check whether given number is prime or not. \n",
    "a = 21\n",
    "\n",
    "if a>1:\n",
    "    for i in range(2,a):\n",
    "        if a%i == 0:\n",
    "            print (\"Given number\",a,\"is not a prime number\")\n",
    "            break\n",
    "    else:\n",
    "        print(\"Given number\",a,\"is prime number\")\n",
    "else:\n",
    "    print (\"Given number\",a,\"is not a prime number\")\n",
    "    \n",
    "#ii) Generate all the prime numbers between 1 to N where N is given number.\n",
    "\n",
    "for j in range(2,a):\n",
    "    for i in range(2,j):\n",
    "        if i != j:\n",
    "            if j%i == 0:\n",
    "                break\n",
    "    else:\n",
    "        print(j,\"is prime number\")\n",
    "print(\"These are the prime numbers between 1 to\",a)"
   ]
  },
  {
   "cell_type": "markdown",
   "metadata": {},
   "source": [
    "17) Write program to find the biggest and Smallest of N numbers. PS: Use the functions to find biggest and smallest numbers."
   ]
  },
  {
   "cell_type": "code",
   "execution_count": 81,
   "metadata": {},
   "outputs": [
    {
     "name": "stdout",
     "output_type": "stream",
     "text": [
      "How many numbers: 3\n",
      "Enter number 4\n",
      "Enter number 6\n",
      "Enter number 8\n",
      "Maximum element in the list is : 8 \n",
      "Minimum element in the list is : 4\n"
     ]
    }
   ],
   "source": [
    "list = []\n",
    "num = int(input('How many numbers: '))\n",
    "for n in range(num):\n",
    "    numbers = int(input('Enter number '))\n",
    "    list.append(numbers)\n",
    "print(\"Maximum element in the list is :\", max(list), \"\\nMinimum element in the list is :\", min(list))"
   ]
  },
  {
   "cell_type": "markdown",
   "metadata": {},
   "source": [
    "18) Using loop structures print numbers from 1 to 100. and using the same loop print numbers from 100 to 1 (reverse printing) a) By using For loop b) By using while loop c) Let mystring =\"Hello world\" print each character of mystring in to separate line using appropriate loop structure."
   ]
  },
  {
   "cell_type": "code",
   "execution_count": 4,
   "metadata": {},
   "outputs": [
    {
     "name": "stdout",
     "output_type": "stream",
     "text": [
      "values under for loop\n",
      "1 100\n",
      "2 99\n",
      "3 98\n",
      "4 97\n",
      "5 96\n",
      "6 95\n",
      "7 94\n",
      "8 93\n",
      "9 92\n",
      "10 91\n",
      "11 90\n",
      "12 89\n",
      "13 88\n",
      "14 87\n",
      "15 86\n",
      "16 85\n",
      "17 84\n",
      "18 83\n",
      "19 82\n",
      "20 81\n",
      "21 80\n",
      "22 79\n",
      "23 78\n",
      "24 77\n",
      "25 76\n",
      "26 75\n",
      "27 74\n",
      "28 73\n",
      "29 72\n",
      "30 71\n",
      "31 70\n",
      "32 69\n",
      "33 68\n",
      "34 67\n",
      "35 66\n",
      "36 65\n",
      "37 64\n",
      "38 63\n",
      "39 62\n",
      "40 61\n",
      "41 60\n",
      "42 59\n",
      "43 58\n",
      "44 57\n",
      "45 56\n",
      "46 55\n",
      "47 54\n",
      "48 53\n",
      "49 52\n",
      "50 51\n",
      "51 50\n",
      "52 49\n",
      "53 48\n",
      "54 47\n",
      "55 46\n",
      "56 45\n",
      "57 44\n",
      "58 43\n",
      "59 42\n",
      "60 41\n",
      "61 40\n",
      "62 39\n",
      "63 38\n",
      "64 37\n",
      "65 36\n",
      "66 35\n",
      "67 34\n",
      "68 33\n",
      "69 32\n",
      "70 31\n",
      "71 30\n",
      "72 29\n",
      "73 28\n",
      "74 27\n",
      "75 26\n",
      "76 25\n",
      "77 24\n",
      "78 23\n",
      "79 22\n",
      "80 21\n",
      "81 20\n",
      "82 19\n",
      "83 18\n",
      "84 17\n",
      "85 16\n",
      "86 15\n",
      "87 14\n",
      "88 13\n",
      "89 12\n",
      "90 11\n",
      "91 10\n",
      "92 9\n",
      "93 8\n",
      "94 7\n",
      "95 6\n",
      "96 5\n",
      "97 4\n",
      "98 3\n",
      "99 2\n",
      "100 1\n",
      "values under while loop\n",
      "1 100\n",
      "2 99\n",
      "3 98\n",
      "4 97\n",
      "5 96\n",
      "6 95\n",
      "7 94\n",
      "8 93\n",
      "9 92\n",
      "10 91\n",
      "11 90\n",
      "12 89\n",
      "13 88\n",
      "14 87\n",
      "15 86\n",
      "16 85\n",
      "17 84\n",
      "18 83\n",
      "19 82\n",
      "20 81\n",
      "21 80\n",
      "22 79\n",
      "23 78\n",
      "24 77\n",
      "25 76\n",
      "26 75\n",
      "27 74\n",
      "28 73\n",
      "29 72\n",
      "30 71\n",
      "31 70\n",
      "32 69\n",
      "33 68\n",
      "34 67\n",
      "35 66\n",
      "36 65\n",
      "37 64\n",
      "38 63\n",
      "39 62\n",
      "40 61\n",
      "41 60\n",
      "42 59\n",
      "43 58\n",
      "44 57\n",
      "45 56\n",
      "46 55\n",
      "47 54\n",
      "48 53\n",
      "49 52\n",
      "50 51\n",
      "51 50\n",
      "52 49\n",
      "53 48\n",
      "54 47\n",
      "55 46\n",
      "56 45\n",
      "57 44\n",
      "58 43\n",
      "59 42\n",
      "60 41\n",
      "61 40\n",
      "62 39\n",
      "63 38\n",
      "64 37\n",
      "65 36\n",
      "66 35\n",
      "67 34\n",
      "68 33\n",
      "69 32\n",
      "70 31\n",
      "71 30\n",
      "72 29\n",
      "73 28\n",
      "74 27\n",
      "75 26\n",
      "76 25\n",
      "77 24\n",
      "78 23\n",
      "79 22\n",
      "80 21\n",
      "81 20\n",
      "82 19\n",
      "83 18\n",
      "84 17\n",
      "85 16\n",
      "86 15\n",
      "87 14\n",
      "88 13\n",
      "89 12\n",
      "90 11\n",
      "91 10\n",
      "92 9\n",
      "93 8\n",
      "94 7\n",
      "95 6\n",
      "96 5\n",
      "97 4\n",
      "98 3\n",
      "99 2\n",
      "100 1\n",
      "H\n",
      "e\n",
      "l\n",
      "l\n",
      "o\n",
      " \n",
      "w\n",
      "o\n",
      "r\n",
      "l\n",
      "d\n"
     ]
    }
   ],
   "source": [
    "#a) By using For loop\n",
    "\n",
    "print(\"values under for loop\")\n",
    "for i in range(1,101):\n",
    "    print(i,(101-i))\n",
    "\n",
    "#b) By using while loop\n",
    "\n",
    "print(\"values under while loop\")\n",
    "i=1\n",
    "while i < 101:\n",
    "    print(i,(101-i))\n",
    "    i+=1\n",
    "\n",
    "#c) Let mystring =\"Hello world\" print each character of mystring in to separate line using appropriate loop structure.\n",
    "mystring = \"Hello world\"\n",
    "\n",
    "for i in range(0,len(mystring)):\n",
    "    print(mystring[i])"
   ]
  },
  {
   "cell_type": "markdown",
   "metadata": {},
   "source": [
    "19) Using loop structures print even numbers between 1 to 100.\n",
    "a) By using For loop, use continue/ break/ pass statement to skip odd numbers. i) Break the loop if the value is 50 ii) Use continue for the values 10,20,30,40,50 b) By using while loop, use continue/ break/ pass statement to skip odd numbers. i) Break the loop if the value is 90 ii) Use continue for the values 60,70,80,90"
   ]
  },
  {
   "cell_type": "code",
   "execution_count": 2,
   "metadata": {},
   "outputs": [
    {
     "name": "stdout",
     "output_type": "stream",
     "text": [
      "Execution of for loop\n",
      "2 is an even number between 1 to 100\n",
      "4 is an even number between 1 to 100\n",
      "6 is an even number between 1 to 100\n",
      "8 is an even number between 1 to 100\n",
      "12 is an even number between 1 to 100\n",
      "14 is an even number between 1 to 100\n",
      "16 is an even number between 1 to 100\n",
      "18 is an even number between 1 to 100\n",
      "22 is an even number between 1 to 100\n",
      "24 is an even number between 1 to 100\n",
      "26 is an even number between 1 to 100\n",
      "28 is an even number between 1 to 100\n",
      "32 is an even number between 1 to 100\n",
      "34 is an even number between 1 to 100\n",
      "36 is an even number between 1 to 100\n",
      "38 is an even number between 1 to 100\n",
      "42 is an even number between 1 to 100\n",
      "44 is an even number between 1 to 100\n",
      "46 is an even number between 1 to 100\n",
      "48 is an even number between 1 to 100\n",
      "Execution of while loop\n",
      "2 is an even number between 1 to 100\n",
      "4 is an even number between 1 to 100\n",
      "6 is an even number between 1 to 100\n",
      "8 is an even number between 1 to 100\n",
      "10 is an even number between 1 to 100\n",
      "12 is an even number between 1 to 100\n",
      "14 is an even number between 1 to 100\n",
      "16 is an even number between 1 to 100\n",
      "18 is an even number between 1 to 100\n",
      "20 is an even number between 1 to 100\n",
      "22 is an even number between 1 to 100\n",
      "24 is an even number between 1 to 100\n",
      "26 is an even number between 1 to 100\n",
      "28 is an even number between 1 to 100\n",
      "30 is an even number between 1 to 100\n",
      "32 is an even number between 1 to 100\n",
      "34 is an even number between 1 to 100\n",
      "36 is an even number between 1 to 100\n",
      "38 is an even number between 1 to 100\n",
      "40 is an even number between 1 to 100\n",
      "42 is an even number between 1 to 100\n",
      "44 is an even number between 1 to 100\n",
      "46 is an even number between 1 to 100\n",
      "48 is an even number between 1 to 100\n",
      "50 is an even number between 1 to 100\n",
      "52 is an even number between 1 to 100\n",
      "54 is an even number between 1 to 100\n",
      "56 is an even number between 1 to 100\n",
      "58 is an even number between 1 to 100\n",
      "62 is an even number between 1 to 100\n",
      "64 is an even number between 1 to 100\n",
      "66 is an even number between 1 to 100\n",
      "68 is an even number between 1 to 100\n",
      "72 is an even number between 1 to 100\n",
      "74 is an even number between 1 to 100\n",
      "76 is an even number between 1 to 100\n",
      "78 is an even number between 1 to 100\n",
      "82 is an even number between 1 to 100\n",
      "84 is an even number between 1 to 100\n",
      "86 is an even number between 1 to 100\n",
      "88 is an even number between 1 to 100\n"
     ]
    }
   ],
   "source": [
    "#a) By using For loop, use continue/ break/ pass statement to skip odd numbers. \n",
    "#i) Break the loop if the value is 50 \n",
    "#ii) Use continue for the values 10,20,30,40,50\n",
    "\n",
    "print(\"Execution of for loop\")\n",
    "for i in range(1,101):\n",
    "    if i%2!=0:\n",
    "        continue\n",
    "    elif i == 50:\n",
    "        break\n",
    "    elif i in range(10,60,10):\n",
    "        continue\n",
    "    else:\n",
    "        print(i,\"is an even number between 1 to 100\")\n",
    "                \n",
    "\n",
    "#b) By using while loop, use continue/ break/ pass statement to skip odd numbers. \n",
    "#i) Break the loop if the value is 90 \n",
    "#ii) Use continue for the values 60,70,80,90\n",
    "\n",
    "print(\"Execution of while loop\")\n",
    "j = 0\n",
    "while j < 100:\n",
    "    j+=1\n",
    "    if j%2!=0:\n",
    "        continue\n",
    "    elif j == 90:\n",
    "        break\n",
    "    elif j in range(60,100,10):\n",
    "        continue\n",
    "    else:\n",
    "        print(j,\"is an even number between 1 to 100\")\n",
    "                "
   ]
  },
  {
   "cell_type": "markdown",
   "metadata": {},
   "source": [
    "20) Write a program to generate a Fibonacci series of numbers. Starting numbers are 0 and 1, new number in the series is generated by adding previous two numbers in the series. Example : 0, 1, 1, 2, 3, 5, 8,13,21,..... a) Number of elements printed in the series should be N numbers, Where N is any +ve integer. b) Generate the series until the element in the series is less than Max number."
   ]
  },
  {
   "cell_type": "code",
   "execution_count": 35,
   "metadata": {},
   "outputs": [
    {
     "name": "stdout",
     "output_type": "stream",
     "text": [
      "0\n",
      "1\n",
      "1\n",
      "2\n",
      "3\n",
      "5\n",
      "8\n",
      "13\n",
      "21\n",
      "34\n",
      "55\n",
      "89\n",
      "144\n",
      "233\n",
      "377\n",
      "0\n",
      "1\n",
      "1\n",
      "2\n",
      "3\n",
      "5\n",
      "8\n",
      "13\n",
      "21\n",
      "34\n",
      "55\n",
      "89\n",
      "144\n"
     ]
    }
   ],
   "source": [
    "#a) Number of elements printed in the series should be N numbers, Where N is any +ve integer.\n",
    "n = 15\n",
    "i,j,k = 0,0,0\n",
    "k+=1\n",
    "print(j)\n",
    "i+=1\n",
    "print(k)\n",
    "i+=1\n",
    "while i < n:\n",
    "    x=j+k\n",
    "    j=k\n",
    "    k=x\n",
    "    print(x)\n",
    "    i+=1\n",
    "\n",
    "#b) Generate the series until the element in the series is less than Max number.\n",
    "\n",
    "max = 233\n",
    "x,j,k = 0,0,0\n",
    "k+=1\n",
    "print(j)\n",
    "if max != 1:\n",
    "    i+=1\n",
    "    print(k)\n",
    "    i+=1\n",
    "    while x < max:\n",
    "        x=j+k\n",
    "        j=k\n",
    "        k=x\n",
    "        if x < max:\n",
    "            print(x)"
   ]
  },
  {
   "cell_type": "code",
   "execution_count": null,
   "metadata": {},
   "outputs": [],
   "source": []
  },
  {
   "cell_type": "code",
   "execution_count": null,
   "metadata": {},
   "outputs": [],
   "source": []
  }
 ],
 "metadata": {
  "kernelspec": {
   "display_name": "Python 3",
   "language": "python",
   "name": "python3"
  },
  "language_info": {
   "codemirror_mode": {
    "name": "ipython",
    "version": 3
   },
   "file_extension": ".py",
   "mimetype": "text/x-python",
   "name": "python",
   "nbconvert_exporter": "python",
   "pygments_lexer": "ipython3",
   "version": "3.7.3"
  }
 },
 "nbformat": 4,
 "nbformat_minor": 2
}
